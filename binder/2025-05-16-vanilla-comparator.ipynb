{
 "cells": [
  {
   "cell_type": "code",
   "execution_count": null,
   "metadata": {},
   "outputs": [],
   "source": [
    "%load_ext watermark\n"
   ]
  },
  {
   "cell_type": "code",
   "execution_count": null,
   "metadata": {},
   "outputs": [],
   "source": [
    "from IPython.display import display, HTML\n",
    "from hstrat import _auxiliary_lib as hstrat_aux\n",
    "import numpy as np\n",
    "import pandas as pd\n",
    "import seaborn as sns\n",
    "from matplotlib import pyplot as plt\n",
    "from slugify import slugify\n",
    "from teeplot import teeplot as tp\n",
    "from tqdm import tqdm\n",
    "\n",
    "from pylib._calc_normed_defmut_clade_stats import (\n",
    "    calc_normed_defmut_clade_stats,\n",
    ")\n",
    "from pylib._mask_sequence_diffs import mask_sequence_diffs\n",
    "from pylib._screen_mutation_defined_nodes_sequence_diff import (\n",
    "    screen_mutation_defined_nodes_sequence_diff,\n",
    ")\n",
    "from pylib._seed_global_rngs import seed_global_rngs\n"
   ]
  },
  {
   "cell_type": "code",
   "execution_count": null,
   "metadata": {},
   "outputs": [],
   "source": [
    "%watermark -diwmuv -iv\n"
   ]
  },
  {
   "cell_type": "code",
   "execution_count": null,
   "metadata": {},
   "outputs": [],
   "source": [
    "teeplot_subdir = \"2025-05-16-vanilla-comparator\"\n",
    "teeplot_subdir\n"
   ]
  },
  {
   "cell_type": "code",
   "execution_count": null,
   "metadata": {},
   "outputs": [],
   "source": [
    "seed_global_rngs(1)\n"
   ]
  },
  {
   "cell_type": "markdown",
   "metadata": {},
   "source": [
    "## Get Data\n"
   ]
  },
  {
   "cell_type": "code",
   "execution_count": null,
   "metadata": {},
   "outputs": [],
   "source": [
    "df = pd.read_parquet(\"https://osf.io/f4qaj/download\").astype(\n",
    "    {\"origin_time\": float},\n",
    ")\n",
    "\n",
    "df.head()\n"
   ]
  },
  {
   "cell_type": "code",
   "execution_count": null,
   "metadata": {},
   "outputs": [],
   "source": [
    "def stripboxen_plot(\n",
    "    data: pd.DataFrame,\n",
    "    x: str,\n",
    "    y: str,\n",
    "    hue: str\n",
    ") -> plt.Axes:\n",
    "    ax = sns.boxenplot(\n",
    "        data=data,\n",
    "        y=y,\n",
    "        x=x,\n",
    "        hue=hue,\n",
    "        legend=False,\n",
    "    )\n",
    "    sns.barplot(\n",
    "        data=data,\n",
    "        y=y,\n",
    "        x=x,\n",
    "        hue=hue,\n",
    "        alpha=0.0,\n",
    "        ax=ax,\n",
    "        legend=False,\n",
    "    )\n",
    "    sns.stripplot(\n",
    "        y=data[y] + np.random.uniform(-1, 1, len(data)),\n",
    "        x=data[x],\n",
    "        alpha=0.2,\n",
    "        ax=ax,\n",
    "        color=\"k\",\n",
    "        legend=False,\n",
    "        jitter=0.3,\n",
    "        size=4,\n",
    "    )\n",
    "    return ax\n"
   ]
  },
  {
   "cell_type": "code",
   "execution_count": null,
   "metadata": {},
   "outputs": [],
   "source": [
    "for trt_name, group in df.groupby(\"trt_name\", observed=True):\n",
    "    dfx = group[\n",
    "        (group[\"replicate_uuid\"] == group[\"replicate_uuid\"].unique()[0])\n",
    "    ]\n",
    "    dfx = hstrat_aux.alifestd_to_working_format(dfx).reset_index(drop=True)\n",
    "\n",
    "    # yield (mut_char_pos, mut_char_ref, mut_char_var), mut_mask\n",
    "    mutations = mask_sequence_diffs(\n",
    "        ancestral_sequence=dfx[\"ancestral_sequence\"].astype(str).unique().item(),\n",
    "        sequence_diffs=dfx[\"sequence_diff\"],\n",
    "        sparsify_mask=False,\n",
    "    )\n",
    "    mutations = [*mutations]\n",
    "\n",
    "    defining_masks = {\n",
    "        (mut_char_pos, mut_char_ref, mut_char_var): screen_mutation_defined_nodes_sequence_diff(\n",
    "            phylo_df=dfx,\n",
    "            mut_char_pos=mut_char_pos,\n",
    "            mut_char_var=mut_char_var,\n",
    "        )\n",
    "        for (mut_char_pos, mut_char_ref, mut_char_var), mut_mask in mutations\n",
    "    }\n",
    "    dfx[\"is_focal_mutant\"] = next(iter(defining_masks.values()))\n",
    "\n",
    "    dfx = calc_normed_defmut_clade_stats(\n",
    "        phylo_df=dfx,\n",
    "        defmut_clade_masks=defining_masks,\n",
    "        match_cols=[\"variant_flavor\"],\n",
    "        ot_deltas=(4, 7, 14, 28, 44),\n",
    "        progress_wrap=tqdm,\n",
    "    )\n",
    "\n",
    "    dfx_ = dfx.copy()\n",
    "    dfx_[\"is_focal_mutant\"] = \"null\"\n",
    "    data = pd.concat([dfx, dfx_], ignore_index=True)\n",
    "\n",
    "    for y in (\n",
    "        \"defmut_norm_all-num_leaves\",\n",
    "        \"defmut_norm_ot_delta:4-num_leaves\",\n",
    "        \"defmut_norm_ot_delta:7-num_leaves\",\n",
    "        \"defmut_norm_ot_delta:14-num_leaves\",\n",
    "        \"defmut_norm_ot_delta:28-num_leaves\",\n",
    "        \"defmut_norm_ot_delta:44-num_leaves\",\n",
    "        \"defmut_norm_match:variant_flavor-num_leaves\",\n",
    "        \"defmut_norm_all-clade_duration\",\n",
    "        \"defmut_norm_ot_delta:4-clade_duration\",\n",
    "        \"defmut_norm_ot_delta:7-clade_duration\",\n",
    "        \"defmut_norm_ot_delta:14-clade_duration\",\n",
    "        \"defmut_norm_ot_delta:28-clade_duration\",\n",
    "        \"defmut_norm_ot_delta:44-clade_duration\",\n",
    "        \"defmut_norm_match:variant_flavor-clade_duration\",\n",
    "    ):\n",
    "        display(HTML(f\"<h2>{trt_name} {y}</h2>\"))\n",
    "        with tp.teed(\n",
    "            stripboxen_plot,\n",
    "            data=data,\n",
    "            x=\"is_focal_mutant\",\n",
    "            y=y,\n",
    "            hue=\"is_focal_mutant\",\n",
    "            teeplot_outattrs={\n",
    "                \"trt_name\": slugify(trt_name),\n",
    "            },\n",
    "            teeplot_subdir=teeplot_subdir,\n",
    "        ) as teed:\n",
    "            teed.axhline(50, color=\"k\", linestyle=\"--\")\n"
   ]
  }
 ],
 "metadata": {
  "kernelspec": {
   "display_name": "env",
   "language": "python",
   "name": "python3"
  },
  "language_info": {
   "codemirror_mode": {
    "name": "ipython",
    "version": 3
   },
   "file_extension": ".py",
   "mimetype": "text/x-python",
   "name": "python",
   "nbconvert_exporter": "python",
   "pygments_lexer": "ipython3"
  }
 },
 "nbformat": 4,
 "nbformat_minor": 2
}
