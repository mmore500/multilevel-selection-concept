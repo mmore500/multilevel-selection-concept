{
 "cells": [
  {
   "cell_type": "code",
   "execution_count": null,
   "metadata": {},
   "outputs": [],
   "source": [
    "%load_ext watermark\n"
   ]
  },
  {
   "cell_type": "code",
   "execution_count": null,
   "metadata": {},
   "outputs": [],
   "source": [
    "import os\n",
    "\n",
    "import covasim as cv\n",
    "import numpy as np\n",
    "from teeplot import teeplot as tp\n",
    "\n",
    "import pylib  # noqa: F401\n"
   ]
  },
  {
   "cell_type": "code",
   "execution_count": null,
   "metadata": {},
   "outputs": [],
   "source": [
    "%watermark -diwmuv -iv\n"
   ]
  },
  {
   "cell_type": "code",
   "execution_count": null,
   "metadata": {},
   "outputs": [],
   "source": [
    "teeplot_subdir = os.environ.get(\"2025-03-31-dev-variantsync\", None)\n",
    "teeplot_subdir\n"
   ]
  },
  {
   "cell_type": "markdown",
   "metadata": {},
   "source": [
    "## Quickstart\n",
    "\n",
    "Two Strains, with lower-transmissibility variants\n"
   ]
  },
  {
   "cell_type": "code",
   "execution_count": null,
   "metadata": {},
   "outputs": [],
   "source": [
    "# from https://github.com/InstituteforDiseaseModeling/covasim/blob/fef033fed5a0ca71be9c4f773d75dce1d237e753/covasim/parameters.py\n",
    "gamma = dict(\n",
    "    rel_beta=2.05,  # Estimated to be 1.7\u20132.4-fold more transmissible than wild-type: https://science.sciencemag.org/content/early/2021/04/13/science.abh2644\n",
    "    rel_symp_prob=1.0,\n",
    "    rel_severe_prob=2.6,  # From https://www.eurosurveillance.org/content/10.2807/1560-7917.ES.2021.26.16.2100348\n",
    "    rel_crit_prob=1.0,\n",
    "    rel_death_prob=1.0,\n",
    ")\n",
    "gamma_ = {**gamma, \"rel_beta\": 1.5}  # lower-transmissibility variant\n",
    "\n",
    "delta = dict(\n",
    "    rel_beta=2.2,  # Estimated to be 1.25-1.6-fold more transmissible than B117: https://www.researchsquare.com/article/rs-637724/v1\n",
    "    rel_symp_prob=1.0,\n",
    "    rel_severe_prob=3.2,  # 2x more transmissible than alpha from https://mobile.twitter.com/dgurdasani1/status/1403293582279294983\n",
    "    rel_crit_prob=1.0,\n",
    "    rel_death_prob=1.0,\n",
    ")\n",
    "delta_ = {**delta, \"rel_beta\": 1.6}  # lower-transmissibility variant\n"
   ]
  },
  {
   "cell_type": "code",
   "execution_count": null,
   "metadata": {},
   "outputs": [],
   "source": [
    "# import gamma and then delta 30 days later\n",
    "gamma = cv.variant(variant=gamma, label=\"gamma\", days=0, n_imports=10)\n",
    "delta = cv.variant(variant=delta, label=\"delta\", days=30, n_imports=100)\n",
    "\n",
    "# lower-transimissibility variants arise from spontaneous mutations, not imports\n",
    "gamma_ = cv.variant(variant=gamma_, label=\"gamma'\", days=0, n_imports=0)\n",
    "delta_ = cv.variant(variant=delta_, label=\"delta'\", days=0, n_imports=0)\n"
   ]
  },
  {
   "cell_type": "code",
   "execution_count": null,
   "metadata": {},
   "outputs": [],
   "source": [
    "sim = cv.Sim(\n",
    "    pop_infected=0,  # disable wild-type strain\n",
    "    variants=[gamma, gamma_, delta, delta_],\n",
    "    rand_seed=1,\n",
    ")\n",
    "sim.run()\n",
    "tp.tee(\n",
    "    sim.plot,\n",
    "    \"variant\",\n",
    "    teeplot_outattrs={\"what\": \"quickstart\"},\n",
    ")\n",
    "...\n"
   ]
  },
  {
   "cell_type": "markdown",
   "metadata": {},
   "source": [
    "## Spontaneously Transform to Lower-Transmissibility Variants\n"
   ]
  },
  {
   "cell_type": "code",
   "execution_count": null,
   "metadata": {},
   "outputs": [],
   "source": [
    "pop_size = 10_000\n",
    "num_variants = 5  # 0th variant is wild-type\n"
   ]
  },
  {
   "cell_type": "code",
   "execution_count": null,
   "metadata": {},
   "outputs": [],
   "source": [
    "def introduce_low_transmissibility_variants(sim: cv.Sim) -> None:\n",
    "    people = sim.people\n",
    "\n",
    "    random_mask = (\n",
    "        np.random.rand(\n",
    "            *people[\"infectious_variant\"].shape,\n",
    "        )\n",
    "        < 0.01\n",
    "    )\n",
    "\n",
    "    has_gamma = people[\"infectious_variant\"] == 1\n",
    "    people[\"infectious_variant\"][has_gamma & random_mask] = 2\n",
    "\n",
    "    has_delta = people[\"infectious_variant\"] == 3\n",
    "    people[\"infectious_variant\"][has_delta & random_mask] = 4\n"
   ]
  },
  {
   "cell_type": "code",
   "execution_count": null,
   "metadata": {},
   "outputs": [],
   "source": [
    "sim = cv.Sim(\n",
    "    interventions=[introduce_low_transmissibility_variants],\n",
    "    pop_infected=0,  # disable wild-type strain\n",
    "    pop_size=pop_size,\n",
    "    variants=[gamma, gamma_, delta, delta_],\n",
    "    rand_seed=1,\n",
    ")\n",
    "sim.run()\n",
    "tp.tee(\n",
    "    sim.plot,\n",
    "    \"variant\",\n",
    "    teeplot_outattrs={\"what\": \"spontaneous-transform\"},\n",
    ")\n",
    "...\n"
   ]
  }
 ],
 "metadata": {
  "kernelspec": {
   "display_name": "env310",
   "language": "python",
   "name": "python3"
  },
  "language_info": {
   "codemirror_mode": {
    "name": "ipython",
    "version": 3
   },
   "file_extension": ".py",
   "mimetype": "text/x-python",
   "name": "python",
   "nbconvert_exporter": "python",
   "pygments_lexer": "ipython3"
  }
 },
 "nbformat": 4,
 "nbformat_minor": 2
}
