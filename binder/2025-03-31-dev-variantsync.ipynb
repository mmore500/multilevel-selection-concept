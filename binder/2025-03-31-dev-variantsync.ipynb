{
 "cells": [
  {
   "cell_type": "code",
   "execution_count": null,
   "metadata": {},
   "outputs": [],
   "source": [
    "%load_ext watermark\n"
   ]
  },
  {
   "cell_type": "code",
   "execution_count": null,
   "metadata": {},
   "outputs": [],
   "source": [
    "from Bio import Phylo as BioPhylo\n",
    "import alifedata_phyloinformatics_convert as apc\n",
    "import covasim as cv\n",
    "from hstrat import _auxiliary_lib as hstrat_aux\n",
    "from matplotlib import patches as mpl_patches\n",
    "from matplotlib import pyplot as plt\n",
    "import numpy as np\n",
    "from teeplot import teeplot as tp\n",
    "\n",
    "from pylib._cv_infection_log_to_alstd_df import cv_infection_log_to_alstd_df\n"
   ]
  },
  {
   "cell_type": "code",
   "execution_count": null,
   "metadata": {},
   "outputs": [],
   "source": [
    "%watermark -diwmuv -iv\n"
   ]
  },
  {
   "cell_type": "code",
   "execution_count": null,
   "metadata": {},
   "outputs": [],
   "source": [
    "teeplot_subdir = \"2025-03-31-dev-variantsync\"\n",
    "teeplot_subdir\n"
   ]
  },
  {
   "cell_type": "markdown",
   "metadata": {},
   "source": [
    "## Setup Params\n",
    "\n",
    "Define `gamma` and `delta` strains, as well as accompanying lower-transmissibility `gamma'` and `delta'` strains.\n"
   ]
  },
  {
   "cell_type": "code",
   "execution_count": null,
   "metadata": {},
   "outputs": [],
   "source": [
    "pop_size = 10_000\n",
    "num_variants = 5  # 0th variant is wild-type\n"
   ]
  },
  {
   "cell_type": "code",
   "execution_count": null,
   "metadata": {},
   "outputs": [],
   "source": [
    "# from https://github.com/InstituteforDiseaseModeling/covasim/blob/fef033fed5a0ca71be9c4f773d75dce1d237e753/covasim/parameters.py\n",
    "gamma = dict(\n",
    "    rel_beta=2.05,  # Estimated to be 1.7-2.4-fold more transmissible than wild-type: https://science.sciencemag.org/content/early/2021/04/13/science.abh2644\n",
    "    rel_symp_prob=1.0,\n",
    "    rel_severe_prob=2.6,  # From https://www.eurosurveillance.org/content/10.2807/1560-7917.ES.2021.26.16.2100348\n",
    "    rel_crit_prob=1.0,\n",
    "    rel_death_prob=1.0,\n",
    ")\n",
    "gamma_ = {**gamma, \"rel_beta\": 1.5}  # lower-transmissibility variant\n",
    "\n",
    "delta = dict(\n",
    "    rel_beta=2.2,  # Estimated to be 1.25-1.6-fold more transmissible than B117: https://www.researchsquare.com/article/rs-637724/v1\n",
    "    rel_symp_prob=1.0,\n",
    "    rel_severe_prob=3.2,  # 2x more transmissible than alpha from https://mobile.twitter.com/dgurdasani1/status/1403293582279294983\n",
    "    rel_crit_prob=1.0,\n",
    "    rel_death_prob=1.0,\n",
    ")\n",
    "delta_ = {**delta, \"rel_beta\": 1.6}  # lower-transmissibility variant\n"
   ]
  },
  {
   "cell_type": "code",
   "execution_count": null,
   "metadata": {},
   "outputs": [],
   "source": [
    "# import gamma and then delta 30 days later\n",
    "gamma = cv.variant(variant=gamma, label=\"gamma\", days=0, n_imports=10)\n",
    "delta = cv.variant(variant=delta, label=\"delta\", days=30, n_imports=100)\n",
    "\n",
    "# lower-transimissibility variants arise from spontaneous mutations, not imports\n",
    "gamma_ = cv.variant(variant=gamma_, label=\"gamma'\", days=0, n_imports=0)\n",
    "delta_ = cv.variant(variant=delta_, label=\"delta'\", days=0, n_imports=0)\n"
   ]
  },
  {
   "cell_type": "markdown",
   "metadata": {},
   "source": [
    "## Prototype Within-host Dynamics Extension\n"
   ]
  },
  {
   "cell_type": "code",
   "execution_count": null,
   "metadata": {},
   "outputs": [],
   "source": [
    "class SyncWithinHost:\n",
    "\n",
    "    _host_compartments: np.ndarray\n",
    "\n",
    "    def __init__(\n",
    "        self: \"SyncWithinHost\", pop_size: int, num_variants: int\n",
    "    ) -> None:\n",
    "        shape = (pop_size, num_variants)\n",
    "        self._host_compartments = np.zeros(shape, dtype=float)\n",
    "\n",
    "    def __call__(self: \"SyncWithinHost\", sim: cv.Sim) -> None:\n",
    "        compartments = self._host_compartments\n",
    "        people = sim.people\n",
    "        random_p = np.random.rand(*people[\"infectious_variant\"].shape)\n",
    "\n",
    "        ## sync covasim to host compartments\n",
    "        #######################################################################\n",
    "        # zero out non-infectious/exposed compartments\n",
    "        mask = ~(people[\"infectious\"] | people[\"exposed\"])\n",
    "        compartments[mask, :] = 0.0\n",
    "\n",
    "        # ensure host compartments are initialized w/ covasim infectious variant\n",
    "        for variant in range(1, num_variants):\n",
    "            compartments[:, variant] = np.maximum(\n",
    "                people[\"infectious_variant\"] == variant,\n",
    "                compartments[:, variant],\n",
    "            )\n",
    "\n",
    "        # update host compartments\n",
    "        #######################################################################\n",
    "        # grow strains\n",
    "        compartments[:, 1] *= 2.0\n",
    "        compartments[:, 2] *= 3.0  # lower-trans variant, faster growth\n",
    "        compartments[:, 3] *= 2.0\n",
    "        compartments[:, 4] *= 3.0  # lower-trans variant, faster growth\n",
    "\n",
    "        # introduce low-transmissibility variants thru spontaneous mutation\n",
    "        # of high-transmissibility variants\n",
    "        # e.g., gamma -> gamma' and delta -> delta'\n",
    "        for lowtran_variant in 2, 4:\n",
    "            p = 1.0 - np.power(0.95, compartments[:, lowtran_variant - 1])\n",
    "            compartments[:, lowtran_variant] = np.maximum(\n",
    "                random_p < p,\n",
    "                compartments[:, lowtran_variant],\n",
    "            )\n",
    "\n",
    "        ## sync host compartments to covasim \"infectious variant\"\n",
    "        #######################################################################\n",
    "        # sample current infectious variant from compartments\n",
    "        compartments_ = compartments.copy()\n",
    "        compartments_ *= np.random.rand(*compartments.shape)\n",
    "        compartments_[1, :] *= 1.5  # higher-transmissiblity bonus\n",
    "        compartments_[3, :] *= 1.5  # higher-transmissiblity bonus\n",
    "        sampled_strains = np.where(\n",
    "            compartments_.any(axis=1),\n",
    "            np.argmax(compartments_, axis=1),\n",
    "            np.nan,\n",
    "        )\n",
    "\n",
    "        # update current covasim infectious variant\n",
    "        people[\"infectious_variant\"] = np.where(\n",
    "            ~np.isnan(people[\"infectious_variant\"]),\n",
    "            sampled_strains,\n",
    "            people[\"infectious_variant\"],\n",
    "        )\n"
   ]
  },
  {
   "cell_type": "markdown",
   "metadata": {},
   "source": [
    "## Run Example Simulation\n"
   ]
  },
  {
   "cell_type": "code",
   "execution_count": null,
   "metadata": {},
   "outputs": [],
   "source": [
    "sim = cv.Sim(\n",
    "    interventions=[SyncWithinHost(pop_size, num_variants)],\n",
    "    pop_infected=0,  # disable wild-type strain\n",
    "    pop_size=pop_size,\n",
    "    variants=[gamma, gamma_, delta, delta_],\n",
    "    rand_seed=1,\n",
    ")\n",
    "sim.run()\n"
   ]
  },
  {
   "cell_type": "code",
   "execution_count": null,
   "metadata": {},
   "outputs": [],
   "source": [
    "tp.tee(\n",
    "    sim.plot,\n",
    "    \"variant\",\n",
    "    teeplot_outattrs={\"what\": \"within-host\"},\n",
    "    teeplot_subdir=teeplot_subdir,\n",
    ")\n",
    "...\n"
   ]
  },
  {
   "cell_type": "markdown",
   "metadata": {},
   "source": [
    "## Visualize Pathogen Phylogeny\n"
   ]
  },
  {
   "cell_type": "code",
   "execution_count": null,
   "metadata": {},
   "outputs": [],
   "source": [
    "phylo_df = cv_infection_log_to_alstd_df(sim.people.infection_log)\n",
    "\n",
    "phylo_df = hstrat_aux.alifestd_downsample_tips_asexual(\n",
    "    phylo_df, n_downsample=200\n",
    ")\n",
    "\n",
    "phylo_tree = apc.alife_dataframe_to_biopython_tree(\n",
    "    phylo_df,\n",
    "    setattrs=[\"variant\"],\n",
    "    setup_branch_lengths=True,\n",
    ")\n",
    "\n",
    "node_colors = {\n",
    "    \"delta\": \"blue\",\n",
    "    \"delta'\": \"green\",\n",
    "    \"gamma\": \"red\",\n",
    "    \"gamma'\": \"purple\",\n",
    "}\n",
    "for node in phylo_tree.find_clades():\n",
    "    node.color = node_colors[node.variant]\n"
   ]
  },
  {
   "cell_type": "code",
   "execution_count": null,
   "metadata": {},
   "outputs": [],
   "source": [
    "def draw_biophylo(tree: BioPhylo.BaseTree, **kwargs) -> plt.Axes:\n",
    "    ax = plt.gca()\n",
    "    BioPhylo.draw(tree, axes=ax, do_show=False, **kwargs)\n",
    "    return ax\n",
    "\n",
    "\n",
    "with tp.teed(\n",
    "    draw_biophylo,\n",
    "    phylo_tree,\n",
    "    teeplot_outattrs={\"what\": \"within-host\"},\n",
    "    teeplot_outdir=teeplot_subdir,\n",
    ") as ax:\n",
    "    ax.set_xlabel(\"Days\")\n",
    "    ax.yaxis.set_visible(False)\n",
    "    ax.spines[\"left\"].set_visible(False)\n",
    "    ax.spines[\"right\"].set_visible(False)\n",
    "    ax.spines[\"top\"].set_visible(False)\n",
    "\n",
    "    legend_handles = [\n",
    "        mpl_patches.Patch(color=color, label=variant)\n",
    "        for variant, color in node_colors.items()\n",
    "    ]\n",
    "    ax.legend(handles=legend_handles, loc=\"upper right\")\n"
   ]
  }
 ],
 "metadata": {
  "kernelspec": {
   "display_name": "env310",
   "language": "python",
   "name": "python3"
  },
  "language_info": {
   "codemirror_mode": {
    "name": "ipython",
    "version": 3
   },
   "file_extension": ".py",
   "mimetype": "text/x-python",
   "name": "python",
   "nbconvert_exporter": "python",
   "pygments_lexer": "ipython3"
  }
 },
 "nbformat": 4,
 "nbformat_minor": 2
}
