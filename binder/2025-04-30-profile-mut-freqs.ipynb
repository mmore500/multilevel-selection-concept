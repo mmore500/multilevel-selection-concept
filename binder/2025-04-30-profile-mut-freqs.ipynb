{
 "cells": [
  {
   "cell_type": "code",
   "execution_count": 1,
   "metadata": {
    "execution": {
     "iopub.execute_input": "2025-05-15T15:25:11.485780Z",
     "iopub.status.busy": "2025-05-15T15:25:11.485360Z",
     "iopub.status.idle": "2025-05-15T15:25:11.496982Z",
     "shell.execute_reply": "2025-05-15T15:25:11.496524Z"
    }
   },
   "outputs": [],
   "source": [
    "%load_ext watermark\n"
   ]
  },
  {
   "cell_type": "code",
   "execution_count": 2,
   "metadata": {
    "execution": {
     "iopub.execute_input": "2025-05-15T15:25:11.498837Z",
     "iopub.status.busy": "2025-05-15T15:25:11.498503Z",
     "iopub.status.idle": "2025-05-15T15:25:25.131260Z",
     "shell.execute_reply": "2025-05-15T15:25:25.130627Z"
    }
   },
   "outputs": [
    {
     "name": "stdout",
     "output_type": "stream",
     "text": [
      "Covasim 3.1.6 (2024-01-28) — © 2020-2024 by IDM\n"
     ]
    }
   ],
   "source": [
    "import numpy as np\n",
    "import pandas as pd\n",
    "from scipy import stats as scipy_stats\n",
    "import seaborn as sns\n",
    "from teeplot import teeplot as tp\n",
    "from tqdm import tqdm\n",
    "\n",
    "from pylib._seed_global_rngs import seed_global_rngs\n",
    "from pylib._summarize_sequence_diffs import summarize_sequence_diffs\n"
   ]
  },
  {
   "cell_type": "code",
   "execution_count": 3,
   "metadata": {
    "execution": {
     "iopub.execute_input": "2025-05-15T15:25:25.133722Z",
     "iopub.status.busy": "2025-05-15T15:25:25.133242Z",
     "iopub.status.idle": "2025-05-15T15:25:25.154463Z",
     "shell.execute_reply": "2025-05-15T15:25:25.153900Z"
    }
   },
   "outputs": [
    {
     "name": "stdout",
     "output_type": "stream",
     "text": [
      "Last updated: 2025-05-15T15:25:25.134858+00:00\n",
      "\n",
      "Python implementation: CPython\n",
      "Python version       : 3.10.12\n",
      "IPython version      : 7.31.1\n",
      "\n",
      "Compiler    : GCC 11.4.0\n",
      "OS          : Linux\n",
      "Release     : 6.8.0-1027-azure\n",
      "Machine     : x86_64\n",
      "Processor   : x86_64\n",
      "CPU cores   : 4\n",
      "Architecture: 64bit\n",
      "\n",
      "numpy  : 2.1.2\n",
      "pandas : 2.2.3\n",
      "scipy  : 1.14.1\n",
      "teeplot: 1.4.2\n",
      "seaborn: 0.13.2\n",
      "\n",
      "Watermark: 2.4.3\n",
      "\n"
     ]
    }
   ],
   "source": [
    "%watermark -diwmuv -iv\n"
   ]
  },
  {
   "cell_type": "code",
   "execution_count": 4,
   "metadata": {
    "execution": {
     "iopub.execute_input": "2025-05-15T15:25:25.156494Z",
     "iopub.status.busy": "2025-05-15T15:25:25.156118Z",
     "iopub.status.idle": "2025-05-15T15:25:25.162100Z",
     "shell.execute_reply": "2025-05-15T15:25:25.161504Z"
    }
   },
   "outputs": [
    {
     "data": {
      "text/plain": [
       "'2025-04-30-profile-mut-freqs'"
      ]
     },
     "execution_count": 4,
     "metadata": {},
     "output_type": "execute_result"
    }
   ],
   "source": [
    "teeplot_subdir = \"2025-04-30-profile-mut-freqs\"\n",
    "teeplot_subdir\n"
   ]
  },
  {
   "cell_type": "code",
   "execution_count": 5,
   "metadata": {
    "execution": {
     "iopub.execute_input": "2025-05-15T15:25:25.164143Z",
     "iopub.status.busy": "2025-05-15T15:25:25.163708Z",
     "iopub.status.idle": "2025-05-15T15:25:25.217890Z",
     "shell.execute_reply": "2025-05-15T15:25:25.217359Z"
    }
   },
   "outputs": [],
   "source": [
    "seed_global_rngs(1)\n"
   ]
  },
  {
   "cell_type": "markdown",
   "metadata": {},
   "source": [
    "## Get Data\n"
   ]
  },
  {
   "cell_type": "code",
   "execution_count": 6,
   "metadata": {
    "execution": {
     "iopub.execute_input": "2025-05-15T15:25:25.220088Z",
     "iopub.status.busy": "2025-05-15T15:25:25.219863Z",
     "iopub.status.idle": "2025-05-15T15:25:47.403672Z",
     "shell.execute_reply": "2025-05-15T15:25:47.400193Z"
    }
   },
   "outputs": [],
   "source": [
    "df = pd.read_parquet(\"https://osf.io/2guwm/download\")\n"
   ]
  },
  {
   "cell_type": "code",
   "execution_count": 7,
   "metadata": {
    "execution": {
     "iopub.execute_input": "2025-05-15T15:25:47.410109Z",
     "iopub.status.busy": "2025-05-15T15:25:47.409877Z",
     "iopub.status.idle": "2025-05-15T15:25:47.552774Z",
     "shell.execute_reply": "2025-05-15T15:25:47.552180Z"
    }
   },
   "outputs": [
    {
     "data": {
      "text/plain": [
       "60"
      ]
     },
     "execution_count": 7,
     "metadata": {},
     "output_type": "execute_result"
    }
   ],
   "source": [
    "df[\"replicate_uuid\"].nunique()\n"
   ]
  },
  {
   "cell_type": "code",
   "execution_count": 8,
   "metadata": {
    "execution": {
     "iopub.execute_input": "2025-05-15T15:25:47.555837Z",
     "iopub.status.busy": "2025-05-15T15:25:47.555623Z",
     "iopub.status.idle": "2025-05-15T15:25:47.815149Z",
     "shell.execute_reply": "2025-05-15T15:25:47.814562Z"
    }
   },
   "outputs": [],
   "source": [
    "len_ancestor = df[\"ancestral_sequence\"].str.len().unique().item()\n"
   ]
  },
  {
   "cell_type": "code",
   "execution_count": 9,
   "metadata": {
    "execution": {
     "iopub.execute_input": "2025-05-15T15:25:47.817576Z",
     "iopub.status.busy": "2025-05-15T15:25:47.817204Z",
     "iopub.status.idle": "2025-05-15T15:26:03.798848Z",
     "shell.execute_reply": "2025-05-15T15:26:03.798190Z"
    }
   },
   "outputs": [
    {
     "name": "stderr",
     "output_type": "stream",
     "text": [
      "  3%|▎         | 2/60 [00:05<02:06,  2.18s/it]"
     ]
    },
    {
     "name": "stdout",
     "output_type": "stream",
     "text": [
      "enter log_context_duration for seq_diff_rows\n",
      "exit log_context_duration for seq_diff_rows\n",
      "!!! {\"seq_diff_rows\": 0.028755664825439453}\n",
      "enter log_context_duration for coo_matrix\n",
      "exit log_context_duration for coo_matrix\n",
      "!!! {\"coo_matrix\": 0.0003941059112548828}\n",
      "enter log_context_duration for coo.tocsc\n",
      "exit log_context_duration for coo.tocsc\n",
      "!!! {\"coo.tocsc\": 0.0012862682342529297}\n",
      "enter log_context_duration for np.split\n",
      "exit log_context_duration for np.split\n",
      "!!! {\"np.split\": 0.0007035732269287109}\n",
      "enter log_context_duration for seq_diff_rows\n",
      "exit log_context_duration for seq_diff_rows\n",
      "!!! {\"seq_diff_rows\": 0.018337249755859375}\n",
      "enter log_context_duration for coo_matrix\n",
      "exit log_context_duration for coo_matrix\n",
      "!!! {\"coo_matrix\": 0.00028967857360839844}\n",
      "enter log_context_duration for coo.tocsc\n",
      "exit log_context_duration for coo.tocsc\n",
      "!!! {\"coo.tocsc\": 0.00041556358337402344}\n",
      "enter log_context_duration for np.split\n",
      "exit log_context_duration for np.split\n",
      "!!! {\"np.split\": 0.0006678104400634766}\n"
     ]
    },
    {
     "name": "stderr",
     "output_type": "stream",
     "text": [
      "  7%|▋         | 4/60 [00:05<00:45,  1.22it/s]"
     ]
    },
    {
     "name": "stdout",
     "output_type": "stream",
     "text": [
      "enter log_context_duration for seq_diff_rows\n",
      "exit log_context_duration for seq_diff_rows\n",
      "!!! {\"seq_diff_rows\": 0.018315553665161133}\n",
      "enter log_context_duration for coo_matrix\n",
      "exit log_context_duration for coo_matrix\n",
      "!!! {\"coo_matrix\": 0.0002875328063964844}\n",
      "enter log_context_duration for coo.tocsc\n",
      "exit log_context_duration for coo.tocsc\n",
      "!!! {\"coo.tocsc\": 0.0003757476806640625}\n",
      "enter log_context_duration for np.split\n",
      "exit log_context_duration for np.split\n",
      "!!! {\"np.split\": 0.0006661415100097656}\n",
      "enter log_context_duration for seq_diff_rows\n",
      "exit log_context_duration for seq_diff_rows\n",
      "!!! {\"seq_diff_rows\": 0.018503904342651367}\n",
      "enter log_context_duration for coo_matrix\n",
      "exit log_context_duration for coo_matrix\n",
      "!!! {\"coo_matrix\": 0.00030875205993652344}\n",
      "enter log_context_duration for coo.tocsc\n",
      "exit log_context_duration for coo.tocsc\n",
      "!!! {\"coo.tocsc\": 0.00044274330139160156}\n",
      "enter log_context_duration for np.split\n",
      "exit log_context_duration for np.split\n",
      "!!! {\"np.split\": 0.0006146430969238281}\n"
     ]
    },
    {
     "name": "stderr",
     "output_type": "stream",
     "text": [
      " 10%|█         | 6/60 [00:05<00:23,  2.30it/s]"
     ]
    },
    {
     "name": "stdout",
     "output_type": "stream",
     "text": [
      "enter log_context_duration for seq_diff_rows\n",
      "exit log_context_duration for seq_diff_rows\n",
      "!!! {\"seq_diff_rows\": 0.01813197135925293}\n",
      "enter log_context_duration for coo_matrix\n",
      "exit log_context_duration for coo_matrix\n",
      "!!! {\"coo_matrix\": 0.0002980232238769531}\n",
      "enter log_context_duration for coo.tocsc\n",
      "exit log_context_duration for coo.tocsc\n",
      "!!! {\"coo.tocsc\": 0.00039076805114746094}\n",
      "enter log_context_duration for np.split\n",
      "exit log_context_duration for np.split\n",
      "!!! {\"np.split\": 0.0006535053253173828}\n",
      "enter log_context_duration for seq_diff_rows\n",
      "exit log_context_duration for seq_diff_rows\n",
      "!!! {\"seq_diff_rows\": 0.018343687057495117}\n",
      "enter log_context_duration for coo_matrix\n",
      "exit log_context_duration for coo_matrix\n",
      "!!! {\"coo_matrix\": 0.0003094673156738281}\n",
      "enter log_context_duration for coo.tocsc\n",
      "exit log_context_duration for coo.tocsc\n",
      "!!! {\"coo.tocsc\": 0.0003752708435058594}\n",
      "enter log_context_duration for np.split\n",
      "exit log_context_duration for np.split\n",
      "!!! {\"np.split\": 0.0006418228149414062}\n"
     ]
    },
    {
     "name": "stderr",
     "output_type": "stream",
     "text": [
      " 13%|█▎        | 8/60 [00:06<00:15,  3.32it/s]"
     ]
    },
    {
     "name": "stdout",
     "output_type": "stream",
     "text": [
      "enter log_context_duration for seq_diff_rows\n",
      "exit log_context_duration for seq_diff_rows\n",
      "!!! {\"seq_diff_rows\": 0.018489837646484375}\n",
      "enter log_context_duration for coo_matrix\n",
      "exit log_context_duration for coo_matrix\n",
      "!!! {\"coo_matrix\": 0.000286102294921875}\n",
      "enter log_context_duration for coo.tocsc\n",
      "exit log_context_duration for coo.tocsc\n",
      "!!! {\"coo.tocsc\": 0.00041413307189941406}\n",
      "enter log_context_duration for np.split\n",
      "exit log_context_duration for np.split\n",
      "!!! {\"np.split\": 0.0006299018859863281}\n",
      "enter log_context_duration for seq_diff_rows\n",
      "exit log_context_duration for seq_diff_rows\n",
      "!!! {\"seq_diff_rows\": 0.019019365310668945}\n",
      "enter log_context_duration for coo_matrix\n",
      "exit log_context_duration for coo_matrix\n",
      "!!! {\"coo_matrix\": 0.0003590583801269531}\n",
      "enter log_context_duration for coo.tocsc\n",
      "exit log_context_duration for coo.tocsc\n",
      "!!! {\"coo.tocsc\": 0.0005369186401367188}\n",
      "enter log_context_duration for np.split\n",
      "exit log_context_duration for np.split\n",
      "!!! {\"np.split\": 0.0006401538848876953}\n"
     ]
    },
    {
     "name": "stderr",
     "output_type": "stream",
     "text": [
      " 17%|█▋        | 10/60 [00:06<00:11,  4.35it/s]"
     ]
    },
    {
     "name": "stdout",
     "output_type": "stream",
     "text": [
      "enter log_context_duration for seq_diff_rows\n",
      "exit log_context_duration for seq_diff_rows\n",
      "!!! {\"seq_diff_rows\": 0.018471956253051758}\n",
      "enter log_context_duration for coo_matrix\n",
      "exit log_context_duration for coo_matrix\n",
      "!!! {\"coo_matrix\": 0.00030994415283203125}\n",
      "enter log_context_duration for coo.tocsc\n",
      "exit log_context_duration for coo.tocsc\n",
      "!!! {\"coo.tocsc\": 0.00043129920959472656}\n",
      "enter log_context_duration for np.split\n",
      "exit log_context_duration for np.split\n",
      "!!! {\"np.split\": 0.0006272792816162109}\n",
      "enter log_context_duration for seq_diff_rows\n",
      "exit log_context_duration for seq_diff_rows\n",
      "!!! {\"seq_diff_rows\": 0.018741130828857422}\n",
      "enter log_context_duration for coo_matrix\n",
      "exit log_context_duration for coo_matrix\n",
      "!!! {\"coo_matrix\": 0.00037670135498046875}\n",
      "enter log_context_duration for coo.tocsc\n",
      "exit log_context_duration for coo.tocsc\n",
      "!!! {\"coo.tocsc\": 0.0005257129669189453}\n",
      "enter log_context_duration for np.split\n",
      "exit log_context_duration for np.split\n",
      "!!! {\"np.split\": 0.0006642341613769531}\n"
     ]
    },
    {
     "name": "stderr",
     "output_type": "stream",
     "text": [
      " 20%|██        | 12/60 [00:06<00:09,  5.16it/s]"
     ]
    },
    {
     "name": "stdout",
     "output_type": "stream",
     "text": [
      "enter log_context_duration for seq_diff_rows\n",
      "exit log_context_duration for seq_diff_rows\n",
      "!!! {\"seq_diff_rows\": 0.01949024200439453}\n",
      "enter log_context_duration for coo_matrix\n",
      "exit log_context_duration for coo_matrix\n",
      "!!! {\"coo_matrix\": 0.00032973289489746094}\n",
      "enter log_context_duration for coo.tocsc\n",
      "exit log_context_duration for coo.tocsc\n",
      "!!! {\"coo.tocsc\": 0.0005345344543457031}\n",
      "enter log_context_duration for np.split\n",
      "exit log_context_duration for np.split\n",
      "!!! {\"np.split\": 0.0006265640258789062}\n",
      "enter log_context_duration for seq_diff_rows\n",
      "exit log_context_duration for seq_diff_rows\n",
      "!!! {\"seq_diff_rows\": 0.018151521682739258}\n",
      "enter log_context_duration for coo_matrix\n",
      "exit log_context_duration for coo_matrix\n",
      "!!! {\"coo_matrix\": 0.00030040740966796875}\n",
      "enter log_context_duration for coo.tocsc\n",
      "exit log_context_duration for coo.tocsc\n",
      "!!! {\"coo.tocsc\": 0.00044846534729003906}\n",
      "enter log_context_duration for np.split\n",
      "exit log_context_duration for np.split\n",
      "!!! {\"np.split\": 0.000606536865234375}\n"
     ]
    },
    {
     "name": "stderr",
     "output_type": "stream",
     "text": [
      " 23%|██▎       | 14/60 [00:07<00:08,  5.54it/s]"
     ]
    },
    {
     "name": "stdout",
     "output_type": "stream",
     "text": [
      "enter log_context_duration for seq_diff_rows\n",
      "exit log_context_duration for seq_diff_rows\n",
      "!!! {\"seq_diff_rows\": 0.018549203872680664}\n",
      "enter log_context_duration for coo_matrix\n",
      "exit log_context_duration for coo_matrix\n",
      "!!! {\"coo_matrix\": 0.00033783912658691406}\n",
      "enter log_context_duration for coo.tocsc\n",
      "exit log_context_duration for coo.tocsc\n",
      "!!! {\"coo.tocsc\": 0.0004355907440185547}\n",
      "enter log_context_duration for np.split\n",
      "exit log_context_duration for np.split\n",
      "!!! {\"np.split\": 0.0006513595581054688}\n",
      "enter log_context_duration for seq_diff_rows\n",
      "exit log_context_duration for seq_diff_rows\n",
      "!!! {\"seq_diff_rows\": 0.018715381622314453}\n",
      "enter log_context_duration for coo_matrix\n",
      "exit log_context_duration for coo_matrix\n",
      "!!! {\"coo_matrix\": 0.0003478527069091797}\n",
      "enter log_context_duration for coo.tocsc\n",
      "exit log_context_duration for coo.tocsc\n",
      "!!! {\"coo.tocsc\": 0.0005245208740234375}\n",
      "enter log_context_duration for np.split\n",
      "exit log_context_duration for np.split\n",
      "!!! {\"np.split\": 0.0006802082061767578}\n"
     ]
    },
    {
     "name": "stderr",
     "output_type": "stream",
     "text": [
      " 27%|██▋       | 16/60 [00:07<00:07,  5.96it/s]"
     ]
    },
    {
     "name": "stdout",
     "output_type": "stream",
     "text": [
      "enter log_context_duration for seq_diff_rows\n",
      "exit log_context_duration for seq_diff_rows\n",
      "!!! {\"seq_diff_rows\": 0.018393754959106445}\n",
      "enter log_context_duration for coo_matrix\n",
      "exit log_context_duration for coo_matrix\n",
      "!!! {\"coo_matrix\": 0.0003185272216796875}\n",
      "enter log_context_duration for coo.tocsc\n",
      "exit log_context_duration for coo.tocsc\n",
      "!!! {\"coo.tocsc\": 0.0004291534423828125}\n",
      "enter log_context_duration for np.split\n",
      "exit log_context_duration for np.split\n",
      "!!! {\"np.split\": 0.0006740093231201172}\n",
      "enter log_context_duration for seq_diff_rows\n",
      "exit log_context_duration for seq_diff_rows\n",
      "!!! {\"seq_diff_rows\": 0.018692493438720703}\n",
      "enter log_context_duration for coo_matrix\n",
      "exit log_context_duration for coo_matrix\n",
      "!!! {\"coo_matrix\": 0.0003380775451660156}\n",
      "enter log_context_duration for coo.tocsc\n",
      "exit log_context_duration for coo.tocsc\n",
      "!!! {\"coo.tocsc\": 0.0004467964172363281}\n",
      "enter log_context_duration for np.split\n",
      "exit log_context_duration for np.split\n",
      "!!! {\"np.split\": 0.0006487369537353516}\n"
     ]
    },
    {
     "name": "stderr",
     "output_type": "stream",
     "text": [
      " 30%|███       | 18/60 [00:07<00:06,  6.06it/s]"
     ]
    },
    {
     "name": "stdout",
     "output_type": "stream",
     "text": [
      "enter log_context_duration for seq_diff_rows\n",
      "exit log_context_duration for seq_diff_rows\n",
      "!!! {\"seq_diff_rows\": 0.0187685489654541}\n",
      "enter log_context_duration for coo_matrix\n",
      "exit log_context_duration for coo_matrix\n",
      "!!! {\"coo_matrix\": 0.0003066062927246094}\n",
      "enter log_context_duration for coo.tocsc\n",
      "exit log_context_duration for coo.tocsc\n",
      "!!! {\"coo.tocsc\": 0.0004718303680419922}\n",
      "enter log_context_duration for np.split\n",
      "exit log_context_duration for np.split\n",
      "!!! {\"np.split\": 0.0006477832794189453}\n",
      "enter log_context_duration for seq_diff_rows\n",
      "exit log_context_duration for seq_diff_rows\n",
      "!!! {\"seq_diff_rows\": 0.018527984619140625}\n",
      "enter log_context_duration for coo_matrix\n",
      "exit log_context_duration for coo_matrix\n",
      "!!! {\"coo_matrix\": 0.00031948089599609375}\n",
      "enter log_context_duration for coo.tocsc\n",
      "exit log_context_duration for coo.tocsc\n",
      "!!! {\"coo.tocsc\": 0.0004811286926269531}\n",
      "enter log_context_duration for np.split\n",
      "exit log_context_duration for np.split\n",
      "!!! {\"np.split\": 0.000614166259765625}\n"
     ]
    },
    {
     "name": "stderr",
     "output_type": "stream",
     "text": [
      " 32%|███▏      | 19/60 [00:08<00:06,  6.20it/s]"
     ]
    },
    {
     "name": "stdout",
     "output_type": "stream",
     "text": [
      "enter log_context_duration for seq_diff_rows\n",
      "exit log_context_duration for seq_diff_rows\n",
      "!!! {\"seq_diff_rows\": 0.018280744552612305}\n",
      "enter log_context_duration for coo_matrix\n",
      "exit log_context_duration for coo_matrix\n",
      "!!! {\"coo_matrix\": 0.0002911090850830078}\n",
      "enter log_context_duration for coo.tocsc\n",
      "exit log_context_duration for coo.tocsc\n",
      "!!! {\"coo.tocsc\": 0.00036787986755371094}\n",
      "enter log_context_duration for np.split\n",
      "exit log_context_duration for np.split\n",
      "!!! {\"np.split\": 0.0006232261657714844}\n"
     ]
    },
    {
     "name": "stderr",
     "output_type": "stream",
     "text": [
      " 35%|███▌      | 21/60 [00:08<00:06,  5.71it/s]"
     ]
    },
    {
     "name": "stdout",
     "output_type": "stream",
     "text": [
      "enter log_context_duration for seq_diff_rows\n",
      "exit log_context_duration for seq_diff_rows\n",
      "!!! {\"seq_diff_rows\": 0.018914222717285156}\n",
      "enter log_context_duration for coo_matrix\n",
      "exit log_context_duration for coo_matrix\n",
      "!!! {\"coo_matrix\": 0.0003235340118408203}\n",
      "enter log_context_duration for coo.tocsc\n",
      "exit log_context_duration for coo.tocsc\n",
      "!!! {\"coo.tocsc\": 0.0005078315734863281}\n",
      "enter log_context_duration for np.split\n",
      "exit log_context_duration for np.split\n",
      "!!! {\"np.split\": 0.0006132125854492188}\n",
      "enter log_context_duration for seq_diff_rows\n",
      "exit log_context_duration for seq_diff_rows\n",
      "!!! {\"seq_diff_rows\": 0.01863574981689453}\n",
      "enter log_context_duration for coo_matrix\n",
      "exit log_context_duration for coo_matrix\n",
      "!!! {\"coo_matrix\": 0.0003113746643066406}\n",
      "enter log_context_duration for coo.tocsc\n",
      "exit log_context_duration for coo.tocsc\n",
      "!!! {\"coo.tocsc\": 0.0004992485046386719}\n",
      "enter log_context_duration for np.split\n",
      "exit log_context_duration for np.split\n",
      "!!! {\"np.split\": 0.0006299018859863281}\n"
     ]
    },
    {
     "name": "stderr",
     "output_type": "stream",
     "text": [
      " 38%|███▊      | 23/60 [00:08<00:06,  5.83it/s]"
     ]
    },
    {
     "name": "stdout",
     "output_type": "stream",
     "text": [
      "enter log_context_duration for seq_diff_rows\n",
      "exit log_context_duration for seq_diff_rows\n",
      "!!! {\"seq_diff_rows\": 0.01880025863647461}\n",
      "enter log_context_duration for coo_matrix\n",
      "exit log_context_duration for coo_matrix\n",
      "!!! {\"coo_matrix\": 0.00032401084899902344}\n",
      "enter log_context_duration for coo.tocsc\n",
      "exit log_context_duration for coo.tocsc\n",
      "!!! {\"coo.tocsc\": 0.0004444122314453125}\n",
      "enter log_context_duration for np.split\n",
      "exit log_context_duration for np.split\n",
      "!!! {\"np.split\": 0.0006575584411621094}\n",
      "enter log_context_duration for seq_diff_rows\n",
      "exit log_context_duration for seq_diff_rows\n",
      "!!! {\"seq_diff_rows\": 0.01897740364074707}\n",
      "enter log_context_duration for coo_matrix\n",
      "exit log_context_duration for coo_matrix\n",
      "!!! {\"coo_matrix\": 0.0003333091735839844}\n",
      "enter log_context_duration for coo.tocsc\n",
      "exit log_context_duration for coo.tocsc\n",
      "!!! {\"coo.tocsc\": 0.0004432201385498047}\n",
      "enter log_context_duration for np.split\n",
      "exit log_context_duration for np.split\n",
      "!!! {\"np.split\": 0.0006945133209228516}\n"
     ]
    },
    {
     "name": "stderr",
     "output_type": "stream",
     "text": [
      " 42%|████▏     | 25/60 [00:09<00:05,  6.07it/s]"
     ]
    },
    {
     "name": "stdout",
     "output_type": "stream",
     "text": [
      "enter log_context_duration for seq_diff_rows\n",
      "exit log_context_duration for seq_diff_rows\n",
      "!!! {\"seq_diff_rows\": 0.01892852783203125}\n",
      "enter log_context_duration for coo_matrix\n",
      "exit log_context_duration for coo_matrix\n",
      "!!! {\"coo_matrix\": 0.0003211498260498047}\n",
      "enter log_context_duration for coo.tocsc\n",
      "exit log_context_duration for coo.tocsc\n",
      "!!! {\"coo.tocsc\": 0.0005209445953369141}\n",
      "enter log_context_duration for np.split\n",
      "exit log_context_duration for np.split\n",
      "!!! {\"np.split\": 0.0007150173187255859}\n",
      "enter log_context_duration for seq_diff_rows\n",
      "exit log_context_duration for seq_diff_rows\n",
      "!!! {\"seq_diff_rows\": 0.018411636352539062}\n",
      "enter log_context_duration for coo_matrix\n",
      "exit log_context_duration for coo_matrix\n",
      "!!! {\"coo_matrix\": 0.00031447410583496094}\n",
      "enter log_context_duration for coo.tocsc\n",
      "exit log_context_duration for coo.tocsc\n",
      "!!! {\"coo.tocsc\": 0.0004642009735107422}\n",
      "enter log_context_duration for np.split\n",
      "exit log_context_duration for np.split\n",
      "!!! {\"np.split\": 0.0006413459777832031}\n"
     ]
    },
    {
     "name": "stderr",
     "output_type": "stream",
     "text": [
      " 43%|████▎     | 26/60 [00:09<00:05,  6.04it/s]"
     ]
    },
    {
     "name": "stdout",
     "output_type": "stream",
     "text": [
      "enter log_context_duration for seq_diff_rows\n",
      "exit log_context_duration for seq_diff_rows\n",
      "!!! {\"seq_diff_rows\": 0.01871657371520996}\n",
      "enter log_context_duration for coo_matrix\n",
      "exit log_context_duration for coo_matrix\n",
      "!!! {\"coo_matrix\": 0.00028824806213378906}\n",
      "enter log_context_duration for coo.tocsc\n",
      "exit log_context_duration for coo.tocsc\n",
      "!!! {\"coo.tocsc\": 0.0003769397735595703}\n",
      "enter log_context_duration for np.split\n",
      "exit log_context_duration for np.split\n",
      "!!! {\"np.split\": 0.0006639957427978516}\n",
      "enter log_context_duration for seq_diff_rows\n",
      "exit log_context_duration for seq_diff_rows\n",
      "!!! {\"seq_diff_rows\": 0.0183563232421875}\n",
      "enter log_context_duration for coo_matrix\n",
      "exit log_context_duration for coo_matrix\n",
      "!!! {\"coo_matrix\": 0.00032401084899902344}\n",
      "enter log_context_duration for coo.tocsc\n",
      "exit log_context_duration for coo.tocsc\n",
      "!!! {\"coo.tocsc\": 0.00046181678771972656}\n",
      "enter log_context_duration for np.split\n",
      "exit log_context_duration for np.split\n",
      "!!! {\"np.split\": 0.0006606578826904297}\n"
     ]
    },
    {
     "name": "stderr",
     "output_type": "stream",
     "text": [
      " 48%|████▊     | 29/60 [00:09<00:05,  6.01it/s]"
     ]
    },
    {
     "name": "stdout",
     "output_type": "stream",
     "text": [
      "enter log_context_duration for seq_diff_rows\n",
      "exit log_context_duration for seq_diff_rows\n",
      "!!! {\"seq_diff_rows\": 0.018679380416870117}\n",
      "enter log_context_duration for coo_matrix\n",
      "exit log_context_duration for coo_matrix\n",
      "!!! {\"coo_matrix\": 0.0003788471221923828}\n",
      "enter log_context_duration for coo.tocsc\n",
      "exit log_context_duration for coo.tocsc\n",
      "!!! {\"coo.tocsc\": 0.0005161762237548828}\n",
      "enter log_context_duration for np.split\n",
      "exit log_context_duration for np.split\n",
      "!!! {\"np.split\": 0.0006487369537353516}\n",
      "enter log_context_duration for seq_diff_rows\n",
      "exit log_context_duration for seq_diff_rows\n",
      "!!! {\"seq_diff_rows\": 0.018635034561157227}\n",
      "enter log_context_duration for coo_matrix\n",
      "exit log_context_duration for coo_matrix\n",
      "!!! {\"coo_matrix\": 0.00034737586975097656}\n",
      "enter log_context_duration for coo.tocsc\n",
      "exit log_context_duration for coo.tocsc\n",
      "!!! {\"coo.tocsc\": 0.00044536590576171875}\n",
      "enter log_context_duration for np.split\n",
      "exit log_context_duration for np.split\n",
      "!!! {\"np.split\": 0.0006489753723144531}\n"
     ]
    },
    {
     "name": "stderr",
     "output_type": "stream",
     "text": [
      " 52%|█████▏    | 31/60 [00:10<00:04,  6.04it/s]"
     ]
    },
    {
     "name": "stdout",
     "output_type": "stream",
     "text": [
      "enter log_context_duration for seq_diff_rows\n",
      "exit log_context_duration for seq_diff_rows\n",
      "!!! {\"seq_diff_rows\": 0.019075870513916016}\n",
      "enter log_context_duration for coo_matrix\n",
      "exit log_context_duration for coo_matrix\n",
      "!!! {\"coo_matrix\": 0.00035691261291503906}\n",
      "enter log_context_duration for coo.tocsc\n",
      "exit log_context_duration for coo.tocsc\n",
      "!!! {\"coo.tocsc\": 0.0004909038543701172}\n",
      "enter log_context_duration for np.split\n",
      "exit log_context_duration for np.split\n",
      "!!! {\"np.split\": 0.0006542205810546875}\n",
      "enter log_context_duration for seq_diff_rows\n",
      "exit log_context_duration for seq_diff_rows\n",
      "!!! {\"seq_diff_rows\": 0.018822908401489258}\n",
      "enter log_context_duration for coo_matrix\n",
      "exit log_context_duration for coo_matrix\n",
      "!!! {\"coo_matrix\": 0.00036597251892089844}\n",
      "enter log_context_duration for coo.tocsc\n",
      "exit log_context_duration for coo.tocsc\n",
      "!!! {\"coo.tocsc\": 0.0005443096160888672}\n",
      "enter log_context_duration for np.split\n",
      "exit log_context_duration for np.split\n",
      "!!! {\"np.split\": 0.0006334781646728516}\n"
     ]
    },
    {
     "name": "stderr",
     "output_type": "stream",
     "text": [
      " 53%|█████▎    | 32/60 [00:10<00:04,  5.73it/s]"
     ]
    },
    {
     "name": "stdout",
     "output_type": "stream",
     "text": [
      "enter log_context_duration for seq_diff_rows\n",
      "exit log_context_duration for seq_diff_rows\n",
      "!!! {\"seq_diff_rows\": 0.05869770050048828}\n",
      "enter log_context_duration for coo_matrix\n",
      "exit log_context_duration for coo_matrix\n",
      "!!! {\"coo_matrix\": 0.00033974647521972656}\n",
      "enter log_context_duration for coo.tocsc\n",
      "exit log_context_duration for coo.tocsc\n",
      "!!! {\"coo.tocsc\": 0.00047135353088378906}\n",
      "enter log_context_duration for np.split\n",
      "exit log_context_duration for np.split\n",
      "!!! {\"np.split\": 0.0006215572357177734}\n"
     ]
    },
    {
     "name": "stderr",
     "output_type": "stream",
     "text": [
      " 57%|█████▋    | 34/60 [00:10<00:04,  6.03it/s]"
     ]
    },
    {
     "name": "stdout",
     "output_type": "stream",
     "text": [
      "enter log_context_duration for seq_diff_rows\n",
      "exit log_context_duration for seq_diff_rows\n",
      "!!! {\"seq_diff_rows\": 0.01853203773498535}\n",
      "enter log_context_duration for coo_matrix\n",
      "exit log_context_duration for coo_matrix\n",
      "!!! {\"coo_matrix\": 0.000301361083984375}\n",
      "enter log_context_duration for coo.tocsc\n",
      "exit log_context_duration for coo.tocsc\n",
      "!!! {\"coo.tocsc\": 0.00045037269592285156}\n",
      "enter log_context_duration for np.split\n",
      "exit log_context_duration for np.split\n",
      "!!! {\"np.split\": 0.0006453990936279297}\n",
      "enter log_context_duration for seq_diff_rows\n",
      "exit log_context_duration for seq_diff_rows\n",
      "!!! {\"seq_diff_rows\": 0.01835942268371582}\n",
      "enter log_context_duration for coo_matrix\n",
      "exit log_context_duration for coo_matrix\n",
      "!!! {\"coo_matrix\": 0.00028133392333984375}\n",
      "enter log_context_duration for coo.tocsc\n",
      "exit log_context_duration for coo.tocsc\n",
      "!!! {\"coo.tocsc\": 0.00038433074951171875}\n",
      "enter log_context_duration for np.split\n",
      "exit log_context_duration for np.split\n",
      "!!! {\"np.split\": 0.0006325244903564453}\n"
     ]
    },
    {
     "name": "stderr",
     "output_type": "stream",
     "text": [
      " 60%|██████    | 36/60 [00:10<00:03,  6.07it/s]"
     ]
    },
    {
     "name": "stdout",
     "output_type": "stream",
     "text": [
      "enter log_context_duration for seq_diff_rows\n",
      "exit log_context_duration for seq_diff_rows\n",
      "!!! {\"seq_diff_rows\": 0.019398927688598633}\n",
      "enter log_context_duration for coo_matrix\n",
      "exit log_context_duration for coo_matrix\n",
      "!!! {\"coo_matrix\": 0.0003910064697265625}\n",
      "enter log_context_duration for coo.tocsc\n",
      "exit log_context_duration for coo.tocsc\n",
      "!!! {\"coo.tocsc\": 0.0005738735198974609}\n",
      "enter log_context_duration for np.split\n",
      "exit log_context_duration for np.split\n",
      "!!! {\"np.split\": 0.0006556510925292969}\n",
      "enter log_context_duration for seq_diff_rows\n",
      "exit log_context_duration for seq_diff_rows\n",
      "!!! {\"seq_diff_rows\": 0.01854109764099121}\n",
      "enter log_context_duration for coo_matrix\n",
      "exit log_context_duration for coo_matrix\n",
      "!!! {\"coo_matrix\": 0.00031065940856933594}\n",
      "enter log_context_duration for coo.tocsc\n",
      "exit log_context_duration for coo.tocsc\n",
      "!!! {\"coo.tocsc\": 0.0003933906555175781}\n",
      "enter log_context_duration for np.split\n",
      "exit log_context_duration for np.split\n",
      "!!! {\"np.split\": 0.0006985664367675781}\n"
     ]
    },
    {
     "name": "stderr",
     "output_type": "stream",
     "text": [
      " 63%|██████▎   | 38/60 [00:11<00:03,  6.21it/s]"
     ]
    },
    {
     "name": "stdout",
     "output_type": "stream",
     "text": [
      "enter log_context_duration for seq_diff_rows\n",
      "exit log_context_duration for seq_diff_rows\n",
      "!!! {\"seq_diff_rows\": 0.01847982406616211}\n",
      "enter log_context_duration for coo_matrix\n",
      "exit log_context_duration for coo_matrix\n",
      "!!! {\"coo_matrix\": 0.0003180503845214844}\n",
      "enter log_context_duration for coo.tocsc\n",
      "exit log_context_duration for coo.tocsc\n",
      "!!! {\"coo.tocsc\": 0.0004534721374511719}\n",
      "enter log_context_duration for np.split\n",
      "exit log_context_duration for np.split\n",
      "!!! {\"np.split\": 0.0006368160247802734}\n",
      "enter log_context_duration for seq_diff_rows\n",
      "exit log_context_duration for seq_diff_rows\n",
      "!!! {\"seq_diff_rows\": 0.01889348030090332}\n",
      "enter log_context_duration for coo_matrix\n",
      "exit log_context_duration for coo_matrix\n",
      "!!! {\"coo_matrix\": 0.0003542900085449219}\n",
      "enter log_context_duration for coo.tocsc\n",
      "exit log_context_duration for coo.tocsc\n",
      "!!! {\"coo.tocsc\": 0.0004563331604003906}\n",
      "enter log_context_duration for np.split\n",
      "exit log_context_duration for np.split\n",
      "!!! {\"np.split\": 0.0006542205810546875}\n"
     ]
    },
    {
     "name": "stderr",
     "output_type": "stream",
     "text": [
      " 67%|██████▋   | 40/60 [00:11<00:03,  5.79it/s]"
     ]
    },
    {
     "name": "stdout",
     "output_type": "stream",
     "text": [
      "enter log_context_duration for seq_diff_rows\n",
      "exit log_context_duration for seq_diff_rows\n",
      "!!! {\"seq_diff_rows\": 0.0183255672454834}\n",
      "enter log_context_duration for coo_matrix\n",
      "exit log_context_duration for coo_matrix\n",
      "!!! {\"coo_matrix\": 0.0003142356872558594}\n",
      "enter log_context_duration for coo.tocsc\n",
      "exit log_context_duration for coo.tocsc\n",
      "!!! {\"coo.tocsc\": 0.0003807544708251953}\n",
      "enter log_context_duration for np.split\n",
      "exit log_context_duration for np.split\n",
      "!!! {\"np.split\": 0.0006716251373291016}\n",
      "enter log_context_duration for seq_diff_rows\n",
      "exit log_context_duration for seq_diff_rows\n",
      "!!! {\"seq_diff_rows\": 0.018619537353515625}\n",
      "enter log_context_duration for coo_matrix\n",
      "exit log_context_duration for coo_matrix\n",
      "!!! {\"coo_matrix\": 0.00034236907958984375}\n",
      "enter log_context_duration for coo.tocsc\n",
      "exit log_context_duration for coo.tocsc\n",
      "!!! {\"coo.tocsc\": 0.0004894733428955078}\n",
      "enter log_context_duration for np.split\n",
      "exit log_context_duration for np.split\n",
      "!!! {\"np.split\": 0.0006706714630126953}\n"
     ]
    },
    {
     "name": "stderr",
     "output_type": "stream",
     "text": [
      " 70%|███████   | 42/60 [00:11<00:03,  5.90it/s]"
     ]
    },
    {
     "name": "stdout",
     "output_type": "stream",
     "text": [
      "enter log_context_duration for seq_diff_rows\n",
      "exit log_context_duration for seq_diff_rows\n",
      "!!! {\"seq_diff_rows\": 0.019113779067993164}\n",
      "enter log_context_duration for coo_matrix\n",
      "exit log_context_duration for coo_matrix\n",
      "!!! {\"coo_matrix\": 0.0003402233123779297}\n",
      "enter log_context_duration for coo.tocsc\n",
      "exit log_context_duration for coo.tocsc\n",
      "!!! {\"coo.tocsc\": 0.0004992485046386719}\n",
      "enter log_context_duration for np.split\n",
      "exit log_context_duration for np.split\n",
      "!!! {\"np.split\": 0.0006628036499023438}\n",
      "enter log_context_duration for seq_diff_rows\n",
      "exit log_context_duration for seq_diff_rows\n",
      "!!! {\"seq_diff_rows\": 0.019272804260253906}\n",
      "enter log_context_duration for coo_matrix\n",
      "exit log_context_duration for coo_matrix\n",
      "!!! {\"coo_matrix\": 0.0003428459167480469}\n",
      "enter log_context_duration for coo.tocsc\n",
      "exit log_context_duration for coo.tocsc\n",
      "!!! {\"coo.tocsc\": 0.0004985332489013672}\n",
      "enter log_context_duration for np.split\n",
      "exit log_context_duration for np.split\n",
      "!!! {\"np.split\": 0.0006692409515380859}\n"
     ]
    },
    {
     "name": "stderr",
     "output_type": "stream",
     "text": [
      " 73%|███████▎  | 44/60 [00:12<00:02,  6.10it/s]"
     ]
    },
    {
     "name": "stdout",
     "output_type": "stream",
     "text": [
      "enter log_context_duration for seq_diff_rows\n",
      "exit log_context_duration for seq_diff_rows\n",
      "!!! {\"seq_diff_rows\": 0.01861882209777832}\n",
      "enter log_context_duration for coo_matrix\n",
      "exit log_context_duration for coo_matrix\n",
      "!!! {\"coo_matrix\": 0.0003275871276855469}\n",
      "enter log_context_duration for coo.tocsc\n",
      "exit log_context_duration for coo.tocsc\n",
      "!!! {\"coo.tocsc\": 0.0005171298980712891}\n",
      "enter log_context_duration for np.split\n",
      "exit log_context_duration for np.split\n",
      "!!! {\"np.split\": 0.0006425380706787109}\n",
      "enter log_context_duration for seq_diff_rows\n",
      "exit log_context_duration for seq_diff_rows\n",
      "!!! {\"seq_diff_rows\": 0.01847982406616211}\n",
      "enter log_context_duration for coo_matrix\n",
      "exit log_context_duration for coo_matrix\n",
      "!!! {\"coo_matrix\": 0.00036644935607910156}\n",
      "enter log_context_duration for coo.tocsc\n",
      "exit log_context_duration for coo.tocsc\n",
      "!!! {\"coo.tocsc\": 0.0005228519439697266}\n",
      "enter log_context_duration for np.split\n",
      "exit log_context_duration for np.split\n",
      "!!! {\"np.split\": 0.0006160736083984375}\n"
     ]
    },
    {
     "name": "stderr",
     "output_type": "stream",
     "text": [
      " 75%|███████▌  | 45/60 [00:12<00:02,  6.10it/s]"
     ]
    },
    {
     "name": "stdout",
     "output_type": "stream",
     "text": [
      "enter log_context_duration for seq_diff_rows\n",
      "exit log_context_duration for seq_diff_rows\n",
      "!!! {\"seq_diff_rows\": 0.02221822738647461}\n",
      "enter log_context_duration for coo_matrix\n",
      "exit log_context_duration for coo_matrix\n",
      "!!! {\"coo_matrix\": 0.0003304481506347656}\n",
      "enter log_context_duration for coo.tocsc\n",
      "exit log_context_duration for coo.tocsc\n",
      "!!! {\"coo.tocsc\": 0.0005409717559814453}\n",
      "enter log_context_duration for np.split\n",
      "exit log_context_duration for np.split\n",
      "!!! {\"np.split\": 0.0007910728454589844}\n",
      "enter log_context_duration for seq_diff_rows\n",
      "exit log_context_duration for seq_diff_rows\n",
      "!!! {\"seq_diff_rows\": 0.018541812896728516}\n",
      "enter log_context_duration for coo_matrix\n",
      "exit log_context_duration for coo_matrix\n",
      "!!! {\"coo_matrix\": 0.0003139972686767578}\n",
      "enter log_context_duration for coo.tocsc\n",
      "exit log_context_duration for coo.tocsc\n",
      "!!! {\"coo.tocsc\": 0.00046324729919433594}\n",
      "enter log_context_duration for np.split\n",
      "exit log_context_duration for np.split\n",
      "!!! {\"np.split\": 0.0006783008575439453}\n"
     ]
    },
    {
     "name": "stderr",
     "output_type": "stream",
     "text": [
      " 80%|████████  | 48/60 [00:12<00:01,  6.07it/s]"
     ]
    },
    {
     "name": "stdout",
     "output_type": "stream",
     "text": [
      "enter log_context_duration for seq_diff_rows\n",
      "exit log_context_duration for seq_diff_rows\n",
      "!!! {\"seq_diff_rows\": 0.01877903938293457}\n",
      "enter log_context_duration for coo_matrix\n",
      "exit log_context_duration for coo_matrix\n",
      "!!! {\"coo_matrix\": 0.000335693359375}\n",
      "enter log_context_duration for coo.tocsc\n",
      "exit log_context_duration for coo.tocsc\n",
      "!!! {\"coo.tocsc\": 0.000499725341796875}\n",
      "enter log_context_duration for np.split\n",
      "exit log_context_duration for np.split\n",
      "!!! {\"np.split\": 0.0006687641143798828}\n",
      "enter log_context_duration for seq_diff_rows\n",
      "exit log_context_duration for seq_diff_rows\n",
      "!!! {\"seq_diff_rows\": 0.01849985122680664}\n",
      "enter log_context_duration for coo_matrix\n",
      "exit log_context_duration for coo_matrix\n",
      "!!! {\"coo_matrix\": 0.0003497600555419922}\n",
      "enter log_context_duration for coo.tocsc\n",
      "exit log_context_duration for coo.tocsc\n",
      "!!! {\"coo.tocsc\": 0.00044345855712890625}\n",
      "enter log_context_duration for np.split\n",
      "exit log_context_duration for np.split\n",
      "!!! {\"np.split\": 0.0006384849548339844}\n"
     ]
    },
    {
     "name": "stderr",
     "output_type": "stream",
     "text": [
      " 83%|████████▎ | 50/60 [00:13<00:01,  6.06it/s]"
     ]
    },
    {
     "name": "stdout",
     "output_type": "stream",
     "text": [
      "enter log_context_duration for seq_diff_rows\n",
      "exit log_context_duration for seq_diff_rows\n",
      "!!! {\"seq_diff_rows\": 0.018631696701049805}\n",
      "enter log_context_duration for coo_matrix\n",
      "exit log_context_duration for coo_matrix\n",
      "!!! {\"coo_matrix\": 0.0003364086151123047}\n",
      "enter log_context_duration for coo.tocsc\n",
      "exit log_context_duration for coo.tocsc\n",
      "!!! {\"coo.tocsc\": 0.0004527568817138672}\n",
      "enter log_context_duration for np.split\n",
      "exit log_context_duration for np.split\n",
      "!!! {\"np.split\": 0.0006511211395263672}\n",
      "enter log_context_duration for seq_diff_rows\n",
      "exit log_context_duration for seq_diff_rows\n",
      "!!! {\"seq_diff_rows\": 0.01928853988647461}\n",
      "enter log_context_duration for coo_matrix\n",
      "exit log_context_duration for coo_matrix\n",
      "!!! {\"coo_matrix\": 0.0004069805145263672}\n",
      "enter log_context_duration for coo.tocsc\n",
      "exit log_context_duration for coo.tocsc\n",
      "!!! {\"coo.tocsc\": 0.0005640983581542969}\n",
      "enter log_context_duration for np.split\n",
      "exit log_context_duration for np.split\n",
      "!!! {\"np.split\": 0.0006585121154785156}\n"
     ]
    },
    {
     "name": "stderr",
     "output_type": "stream",
     "text": [
      " 85%|████████▌ | 51/60 [00:13<00:01,  6.19it/s]"
     ]
    },
    {
     "name": "stdout",
     "output_type": "stream",
     "text": [
      "enter log_context_duration for seq_diff_rows\n",
      "exit log_context_duration for seq_diff_rows\n",
      "!!! {\"seq_diff_rows\": 0.018616199493408203}\n",
      "enter log_context_duration for coo_matrix\n",
      "exit log_context_duration for coo_matrix\n",
      "!!! {\"coo_matrix\": 0.00034809112548828125}\n",
      "enter log_context_duration for coo.tocsc\n",
      "exit log_context_duration for coo.tocsc\n",
      "!!! {\"coo.tocsc\": 0.0004813671112060547}\n",
      "enter log_context_duration for np.split\n",
      "exit log_context_duration for np.split\n",
      "!!! {\"np.split\": 0.0006544589996337891}\n"
     ]
    },
    {
     "name": "stderr",
     "output_type": "stream",
     "text": [
      " 88%|████████▊ | 53/60 [00:13<00:01,  5.86it/s]"
     ]
    },
    {
     "name": "stdout",
     "output_type": "stream",
     "text": [
      "enter log_context_duration for seq_diff_rows\n",
      "exit log_context_duration for seq_diff_rows\n",
      "!!! {\"seq_diff_rows\": 0.017807960510253906}\n",
      "enter log_context_duration for coo_matrix\n",
      "exit log_context_duration for coo_matrix\n",
      "!!! {\"coo_matrix\": 0.0002853870391845703}\n",
      "enter log_context_duration for coo.tocsc\n",
      "exit log_context_duration for coo.tocsc\n",
      "!!! {\"coo.tocsc\": 0.0003643035888671875}\n",
      "enter log_context_duration for np.split\n",
      "exit log_context_duration for np.split\n",
      "!!! {\"np.split\": 0.0006301403045654297}\n",
      "enter log_context_duration for seq_diff_rows\n",
      "exit log_context_duration for seq_diff_rows\n",
      "!!! {\"seq_diff_rows\": 0.019169092178344727}\n",
      "enter log_context_duration for coo_matrix\n",
      "exit log_context_duration for coo_matrix\n",
      "!!! {\"coo_matrix\": 0.0003485679626464844}\n",
      "enter log_context_duration for coo.tocsc\n",
      "exit log_context_duration for coo.tocsc\n",
      "!!! {\"coo.tocsc\": 0.0005316734313964844}\n",
      "enter log_context_duration for np.split\n",
      "exit log_context_duration for np.split\n",
      "!!! {\"np.split\": 0.0006406307220458984}\n"
     ]
    },
    {
     "name": "stderr",
     "output_type": "stream",
     "text": [
      " 92%|█████████▏| 55/60 [00:14<00:00,  6.12it/s]"
     ]
    },
    {
     "name": "stdout",
     "output_type": "stream",
     "text": [
      "enter log_context_duration for seq_diff_rows\n",
      "exit log_context_duration for seq_diff_rows\n",
      "!!! {\"seq_diff_rows\": 0.01900792121887207}\n",
      "enter log_context_duration for coo_matrix\n",
      "exit log_context_duration for coo_matrix\n",
      "!!! {\"coo_matrix\": 0.00033855438232421875}\n",
      "enter log_context_duration for coo.tocsc\n",
      "exit log_context_duration for coo.tocsc\n",
      "!!! {\"coo.tocsc\": 0.0005280971527099609}\n",
      "enter log_context_duration for np.split\n",
      "exit log_context_duration for np.split\n",
      "!!! {\"np.split\": 0.0006940364837646484}\n",
      "enter log_context_duration for seq_diff_rows\n",
      "exit log_context_duration for seq_diff_rows\n",
      "!!! {\"seq_diff_rows\": 0.0185699462890625}\n",
      "enter log_context_duration for coo_matrix\n",
      "exit log_context_duration for coo_matrix\n",
      "!!! {\"coo_matrix\": 0.0003662109375}\n",
      "enter log_context_duration for coo.tocsc\n",
      "exit log_context_duration for coo.tocsc\n",
      "!!! {\"coo.tocsc\": 0.0004680156707763672}\n",
      "enter log_context_duration for np.split\n",
      "exit log_context_duration for np.split\n",
      "!!! {\"np.split\": 0.0007085800170898438}\n"
     ]
    },
    {
     "name": "stderr",
     "output_type": "stream",
     "text": [
      " 95%|█████████▌| 57/60 [00:14<00:00,  6.17it/s]"
     ]
    },
    {
     "name": "stdout",
     "output_type": "stream",
     "text": [
      "enter log_context_duration for seq_diff_rows\n",
      "exit log_context_duration for seq_diff_rows\n",
      "!!! {\"seq_diff_rows\": 0.01872420310974121}\n",
      "enter log_context_duration for coo_matrix\n",
      "exit log_context_duration for coo_matrix\n",
      "!!! {\"coo_matrix\": 0.0003025531768798828}\n",
      "enter log_context_duration for coo.tocsc\n",
      "exit log_context_duration for coo.tocsc\n",
      "!!! {\"coo.tocsc\": 0.00037217140197753906}\n",
      "enter log_context_duration for np.split\n",
      "exit log_context_duration for np.split\n",
      "!!! {\"np.split\": 0.0006585121154785156}\n",
      "enter log_context_duration for seq_diff_rows\n",
      "exit log_context_duration for seq_diff_rows\n",
      "!!! {\"seq_diff_rows\": 0.018636226654052734}\n",
      "enter log_context_duration for coo_matrix\n",
      "exit log_context_duration for coo_matrix\n",
      "!!! {\"coo_matrix\": 0.0003342628479003906}\n",
      "enter log_context_duration for coo.tocsc\n",
      "exit log_context_duration for coo.tocsc\n",
      "!!! {\"coo.tocsc\": 0.00047206878662109375}\n",
      "enter log_context_duration for np.split\n",
      "exit log_context_duration for np.split\n",
      "!!! {\"np.split\": 0.0006670951843261719}\n"
     ]
    },
    {
     "name": "stderr",
     "output_type": "stream",
     "text": [
      " 98%|█████████▊| 59/60 [00:14<00:00,  6.25it/s]"
     ]
    },
    {
     "name": "stdout",
     "output_type": "stream",
     "text": [
      "enter log_context_duration for seq_diff_rows\n",
      "exit log_context_duration for seq_diff_rows\n",
      "!!! {\"seq_diff_rows\": 0.019136428833007812}\n",
      "enter log_context_duration for coo_matrix\n",
      "exit log_context_duration for coo_matrix\n",
      "!!! {\"coo_matrix\": 0.0003345012664794922}\n",
      "enter log_context_duration for coo.tocsc\n",
      "exit log_context_duration for coo.tocsc\n",
      "!!! {\"coo.tocsc\": 0.0004839897155761719}\n",
      "enter log_context_duration for np.split\n",
      "exit log_context_duration for np.split\n",
      "!!! {\"np.split\": 0.0007083415985107422}\n",
      "enter log_context_duration for seq_diff_rows\n",
      "exit log_context_duration for seq_diff_rows\n",
      "!!! {\"seq_diff_rows\": 0.01832890510559082}\n",
      "enter log_context_duration for coo_matrix\n",
      "exit log_context_duration for coo_matrix\n",
      "!!! {\"coo_matrix\": 0.0003147125244140625}\n",
      "enter log_context_duration for coo.tocsc\n",
      "exit log_context_duration for coo.tocsc\n",
      "!!! {\"coo.tocsc\": 0.0003800392150878906}\n",
      "enter log_context_duration for np.split\n",
      "exit log_context_duration for np.split\n",
      "!!! {\"np.split\": 0.0006759166717529297}\n"
     ]
    },
    {
     "name": "stderr",
     "output_type": "stream",
     "text": [
      "100%|██████████| 60/60 [00:14<00:00,  4.03it/s]\n"
     ]
    },
    {
     "name": "stdout",
     "output_type": "stream",
     "text": [
      "enter log_context_duration for seq_diff_rows\n",
      "exit log_context_duration for seq_diff_rows\n",
      "!!! {\"seq_diff_rows\": 0.018628358840942383}\n",
      "enter log_context_duration for coo_matrix\n",
      "exit log_context_duration for coo_matrix\n",
      "!!! {\"coo_matrix\": 0.00036787986755371094}\n",
      "enter log_context_duration for coo.tocsc\n",
      "exit log_context_duration for coo.tocsc\n",
      "!!! {\"coo.tocsc\": 0.0005190372467041016}\n",
      "enter log_context_duration for np.split\n",
      "exit log_context_duration for np.split\n",
      "!!! {\"np.split\": 0.0006608963012695312}\n"
     ]
    }
   ],
   "source": [
    "records = []\n",
    "for uuid, grp in tqdm(df.groupby(\"replicate_uuid\", observed=True)):\n",
    "    grp = grp.reset_index(drop=True).copy()\n",
    "    (unique_mutations, counts, columns,) = summarize_sequence_diffs(\n",
    "        sequence_diffs=grp[\"sequence_diff\"],\n",
    "    )\n",
    "    record = {\n",
    "        \"replicate_uuid\": uuid,\n",
    "        \"trt_name\": grp[\"trt_name\"].unique().astype(str).item(),\n",
    "    }\n",
    "    has_focal_mutation = int(unique_mutations[0] >> 8 == 0)\n",
    "    records.append(\n",
    "        {\n",
    "            **record,\n",
    "            \"mutation\": \"focal\",\n",
    "            \"count\": counts[0] if has_focal_mutation else 0,\n",
    "        }\n",
    "    )\n",
    "    possible_counts = len_ancestor * 3\n",
    "    extended_counts = np.zeros(possible_counts, dtype=int)\n",
    "    extended_counts[: len(counts) - has_focal_mutation] = counts[\n",
    "        has_focal_mutation:\n",
    "    ]\n",
    "    for count in np.random.choice(extended_counts, 1_000):\n",
    "        records.append(\n",
    "            {\n",
    "                **record,\n",
    "                \"mutation\": \"non-focal\",\n",
    "                \"count\": count,\n",
    "            }\n",
    "        )\n"
   ]
  },
  {
   "cell_type": "code",
   "execution_count": 10,
   "metadata": {
    "execution": {
     "iopub.execute_input": "2025-05-15T15:26:03.800805Z",
     "iopub.status.busy": "2025-05-15T15:26:03.800505Z",
     "iopub.status.idle": "2025-05-15T15:26:03.837506Z",
     "shell.execute_reply": "2025-05-15T15:26:03.836954Z"
    }
   },
   "outputs": [],
   "source": [
    "data = pd.DataFrame(records)\n",
    "data[\"count1\"] = data[\"count\"] + 1\n"
   ]
  },
  {
   "cell_type": "code",
   "execution_count": 11,
   "metadata": {
    "execution": {
     "iopub.execute_input": "2025-05-15T15:26:03.839437Z",
     "iopub.status.busy": "2025-05-15T15:26:03.839242Z",
     "iopub.status.idle": "2025-05-15T15:26:03.870127Z",
     "shell.execute_reply": "2025-05-15T15:26:03.869493Z"
    }
   },
   "outputs": [
    {
     "name": "stdout",
     "output_type": "stream",
     "text": [
      "Sben/Gdel MannwhitneyuResult(statistic=399938.0, pvalue=7.409612298008289e-16)\n",
      "Sben/Gneu MannwhitneyuResult(statistic=399928.0, pvalue=6.826029377673738e-16)\n",
      "Sneu/Gneu MannwhitneyuResult(statistic=151626.5, pvalue=0.0509624002509033)\n"
     ]
    }
   ],
   "source": [
    "for trt, grp in data.groupby(\"trt_name\"):\n",
    "    res = scipy_stats.mannwhitneyu(\n",
    "        grp.loc[grp[\"mutation\"] == \"focal\", \"count\"],\n",
    "        grp.loc[grp[\"mutation\"] == \"non-focal\", \"count\"],\n",
    "    )\n",
    "    print(trt, res)\n"
   ]
  },
  {
   "cell_type": "code",
   "execution_count": 12,
   "metadata": {
    "execution": {
     "iopub.execute_input": "2025-05-15T15:26:03.872133Z",
     "iopub.status.busy": "2025-05-15T15:26:03.871763Z",
     "iopub.status.idle": "2025-05-15T15:26:05.855019Z",
     "shell.execute_reply": "2025-05-15T15:26:05.854300Z"
    }
   },
   "outputs": [
    {
     "name": "stdout",
     "output_type": "stream",
     "text": [
      "teeplots/2025-04-30-profile-mut-freqs/col=trt-name+element=poly+hue=mutation+ls=+stat=density+viz=displot+x=count1+ext=.pdf\n",
      "teeplots/2025-04-30-profile-mut-freqs/col=trt-name+element=poly+hue=mutation+ls=+stat=density+viz=displot+x=count1+ext=.png\n"
     ]
    },
    {
     "data": {
      "image/png": "[encoded data removed]",
      "text/plain": [
       "<Figure size 864.5x250 with 3 Axes>"
      ]
     },
     "metadata": {},
     "output_type": "display_data"
    }
   ],
   "source": [
    "with tp.teed(\n",
    "    sns.displot,\n",
    "    data=data,\n",
    "    x=\"count1\",\n",
    "    hue=\"mutation\",\n",
    "    col=\"trt_name\",\n",
    "    element=\"poly\",\n",
    "    # kind=\"kde\",\n",
    "    fill=True,\n",
    "    common_norm=False,\n",
    "    stat=\"density\",\n",
    "    alpha=0.2,\n",
    "    palette=[\"#FF0000\", \"#0000FF\"],\n",
    "    log_scale=True,\n",
    "    height=2.5,\n",
    "    ls=\":\",\n",
    "    facet_kws=dict(\n",
    "        sharex=False,\n",
    "        sharey=False,\n",
    "    ),\n",
    "    teeplot_subdir=teeplot_subdir,\n",
    ") as teed:\n",
    "    sns.move_legend(\n",
    "        teed,\n",
    "        \"lower center\",\n",
    "        bbox_to_anchor=(0.4, 1),\n",
    "        ncol=2,\n",
    "        title=None,\n",
    "        frameon=False,\n",
    "    )\n"
   ]
  },
  {
   "cell_type": "code",
   "execution_count": 13,
   "metadata": {
    "execution": {
     "iopub.execute_input": "2025-05-15T15:26:05.857264Z",
     "iopub.status.busy": "2025-05-15T15:26:05.856991Z",
     "iopub.status.idle": "2025-05-15T15:26:05.878381Z",
     "shell.execute_reply": "2025-05-15T15:26:05.877688Z"
    }
   },
   "outputs": [
    {
     "name": "stdout",
     "output_type": "stream",
     "text": [
      "focal MannwhitneyuResult(statistic=222.0, pvalue=0.5608516966002302)\n",
      "non-focal MannwhitneyuResult(statistic=199332369.0, pvalue=0.546605882350617)\n"
     ]
    }
   ],
   "source": [
    "for mut, grp in data.groupby(\"mutation\"):\n",
    "    res = scipy_stats.mannwhitneyu(\n",
    "        grp.loc[grp[\"trt_name\"] == \"Sben/Gneu\", \"count\"],\n",
    "        grp.loc[grp[\"trt_name\"] == \"Sben/Gdel\", \"count\"],\n",
    "    )\n",
    "    print(mut, res)\n"
   ]
  },
  {
   "cell_type": "code",
   "execution_count": 14,
   "metadata": {
    "execution": {
     "iopub.execute_input": "2025-05-15T15:26:05.880543Z",
     "iopub.status.busy": "2025-05-15T15:26:05.880164Z",
     "iopub.status.idle": "2025-05-15T15:26:07.261940Z",
     "shell.execute_reply": "2025-05-15T15:26:07.261251Z"
    }
   },
   "outputs": [
    {
     "name": "stdout",
     "output_type": "stream",
     "text": [
      "teeplots/2025-04-30-profile-mut-freqs/col=mutation+hue=trt-name+kind=kde+ls=+viz=displot+x=count1+ext=.pdf\n",
      "teeplots/2025-04-30-profile-mut-freqs/col=mutation+hue=trt-name+kind=kde+ls=+viz=displot+x=count1+ext=.png\n"
     ]
    },
    {
     "data": {
      "image/png": "[encoded data removed]",
      "text/plain": [
       "<Figure size 626.25x250 with 2 Axes>"
      ]
     },
     "metadata": {},
     "output_type": "display_data"
    }
   ],
   "source": [
    "with tp.teed(\n",
    "    sns.displot,\n",
    "    data=data,\n",
    "    x=\"count1\",\n",
    "    col=\"mutation\",\n",
    "    hue=\"trt_name\",\n",
    "    kind=\"kde\",\n",
    "    fill=True,\n",
    "    common_norm=False,\n",
    "    alpha=0.2,\n",
    "    log_scale=True,\n",
    "    height=2.5,\n",
    "    ls=\":\",\n",
    "    facet_kws=dict(\n",
    "        sharex=False,\n",
    "        sharey=False,\n",
    "    ),\n",
    "    teeplot_subdir=teeplot_subdir,\n",
    ") as teed:\n",
    "    sns.move_legend(\n",
    "        teed,\n",
    "        \"lower center\",\n",
    "        bbox_to_anchor=(0.4, 1),\n",
    "        ncol=3,\n",
    "        title=None,\n",
    "        frameon=False,\n",
    "    )\n"
   ]
  },
  {
   "cell_type": "code",
   "execution_count": 15,
   "metadata": {
    "execution": {
     "iopub.execute_input": "2025-05-15T15:26:07.264130Z",
     "iopub.status.busy": "2025-05-15T15:26:07.263738Z",
     "iopub.status.idle": "2025-05-15T15:26:07.688649Z",
     "shell.execute_reply": "2025-05-15T15:26:07.687934Z"
    }
   },
   "outputs": [
    {
     "name": "stdout",
     "output_type": "stream",
     "text": [
      "teeplots/2025-04-30-profile-mut-freqs/col=mutation+excl=Sneu-Gneu+hue=trt-name+kind=kde+ls=+viz=displot+x=count1+ext=.pdf\n",
      "teeplots/2025-04-30-profile-mut-freqs/col=mutation+excl=Sneu-Gneu+hue=trt-name+kind=kde+ls=+viz=displot+x=count1+ext=.png\n"
     ]
    },
    {
     "data": {
      "image/png": "[encoded data removed]",
      "text/plain": [
       "<Figure size 501.25x250 with 1 Axes>"
      ]
     },
     "metadata": {},
     "output_type": "display_data"
    }
   ],
   "source": [
    "with tp.teed(\n",
    "    sns.displot,\n",
    "    data=data[\n",
    "        (data[\"trt_name\"] != \"Sneu/Gneu\") & (data[\"mutation\"] == \"focal\")\n",
    "    ],\n",
    "    x=\"count1\",\n",
    "    col=\"mutation\",\n",
    "    hue=\"trt_name\",\n",
    "    kind=\"kde\",\n",
    "    fill=True,\n",
    "    common_norm=False,\n",
    "    alpha=0.2,\n",
    "    height=2.5,\n",
    "    aspect=1.5,\n",
    "    ls=\":\",\n",
    "    facet_kws=dict(\n",
    "        sharex=False,\n",
    "        sharey=False,\n",
    "    ),\n",
    "    teeplot_outattrs={\"excl\": \"Sneu-Gneu\"},\n",
    "    teeplot_subdir=teeplot_subdir,\n",
    ") as teed:\n",
    "    sns.move_legend(\n",
    "        teed,\n",
    "        \"lower center\",\n",
    "        bbox_to_anchor=(0.4, 1),\n",
    "        ncol=2,\n",
    "        title=None,\n",
    "        frameon=False,\n",
    "    )\n"
   ]
  }
 ],
 "metadata": {
  "kernelspec": {
   "display_name": "env",
   "language": "python",
   "name": "python3"
  },
  "language_info": {
   "codemirror_mode": {
    "name": "ipython",
    "version": 3
   },
   "file_extension": ".py",
   "mimetype": "text/x-python",
   "name": "python",
   "nbconvert_exporter": "python",
   "pygments_lexer": "ipython3",
   "version": "3.10.12"
  }
 },
 "nbformat": 4,
 "nbformat_minor": 2
}
