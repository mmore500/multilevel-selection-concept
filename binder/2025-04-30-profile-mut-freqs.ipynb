{
 "cells": [
  {
   "cell_type": "code",
   "execution_count": null,
   "metadata": {},
   "outputs": [],
   "source": [
    "%load_ext watermark\n"
   ]
  },
  {
   "cell_type": "code",
   "execution_count": null,
   "metadata": {},
   "outputs": [],
   "source": [
    "import numpy as np\n",
    "import pandas as pd\n",
    "from scipy import stats as scipy_stats\n",
    "import seaborn as sns\n",
    "from teeplot import teeplot as tp\n",
    "from tqdm import tqdm\n",
    "\n",
    "from pylib._seed_global_rngs import seed_global_rngs\n",
    "from pylib._summarize_sequence_diffs import summarize_sequence_diffs\n"
   ]
  },
  {
   "cell_type": "code",
   "execution_count": null,
   "metadata": {},
   "outputs": [],
   "source": [
    "%watermark -diwmuv -iv\n"
   ]
  },
  {
   "cell_type": "code",
   "execution_count": null,
   "metadata": {},
   "outputs": [],
   "source": [
    "teeplot_subdir = \"2025-04-30-profile-mut-freqs\"\n",
    "teeplot_subdir\n"
   ]
  },
  {
   "cell_type": "code",
   "execution_count": null,
   "metadata": {},
   "outputs": [],
   "source": [
    "seed_global_rngs(1)\n"
   ]
  },
  {
   "cell_type": "markdown",
   "metadata": {},
   "source": [
    "## Get Data\n"
   ]
  },
  {
   "cell_type": "code",
   "execution_count": null,
   "metadata": {},
   "outputs": [],
   "source": [
    "df = pd.read_parquet(\"https://osf.io/2guwm/download\")\n"
   ]
  },
  {
   "cell_type": "code",
   "execution_count": null,
   "metadata": {},
   "outputs": [],
   "source": [
    "df[\"replicate_uuid\"].nunique()\n"
   ]
  },
  {
   "cell_type": "code",
   "execution_count": null,
   "metadata": {},
   "outputs": [],
   "source": [
    "len_ancestor = df[\"ancestral_sequence\"].str.len().unique().item()\n"
   ]
  },
  {
   "cell_type": "code",
   "execution_count": null,
   "metadata": {},
   "outputs": [],
   "source": [
    "records = []\n",
    "for uuid, grp in tqdm(df.groupby(\"replicate_uuid\", observed=True)):\n",
    "    grp = grp.reset_index(drop=True).copy()\n",
    "    (unique_mutations, counts, columns,) = summarize_sequence_diffs(\n",
    "        sequence_diffs=grp[\"sequence_diff\"],\n",
    "    )\n",
    "    record = {\n",
    "        \"replicate_uuid\": uuid,\n",
    "        \"trt_name\": grp[\"trt_name\"].unique().astype(str).item(),\n",
    "    }\n",
    "    has_focal_mutation = int(unique_mutations[0] >> 8 == 0)\n",
    "    records.append(\n",
    "        {\n",
    "            **record,\n",
    "            \"mutation\": \"focal\",\n",
    "            \"count\": counts[0] if has_focal_mutation else 0,\n",
    "        }\n",
    "    )\n",
    "    possible_counts = len_ancestor * 3\n",
    "    extended_counts = np.zeros(possible_counts, dtype=int)\n",
    "    extended_counts[: len(counts) - has_focal_mutation] = counts[\n",
    "        has_focal_mutation:\n",
    "    ]\n",
    "    for count in np.random.choice(extended_counts, 1_000):\n",
    "        records.append(\n",
    "            {\n",
    "                **record,\n",
    "                \"mutation\": \"non-focal\",\n",
    "                \"count\": count,\n",
    "            }\n",
    "        )\n"
   ]
  },
  {
   "cell_type": "code",
   "execution_count": null,
   "metadata": {},
   "outputs": [],
   "source": [
    "data = pd.DataFrame(records)\n",
    "data[\"count1\"] = data[\"count\"] + 1\n"
   ]
  },
  {
   "cell_type": "code",
   "execution_count": null,
   "metadata": {},
   "outputs": [],
   "source": [
    "for trt, grp in data.groupby(\"trt_name\"):\n",
    "    res = scipy_stats.mannwhitneyu(\n",
    "        grp.loc[grp[\"mutation\"] == \"focal\", \"count\"],\n",
    "        grp.loc[grp[\"mutation\"] == \"non-focal\", \"count\"],\n",
    "    )\n",
    "    print(trt, res)\n"
   ]
  },
  {
   "cell_type": "code",
   "execution_count": null,
   "metadata": {},
   "outputs": [],
   "source": [
    "with tp.teed(\n",
    "    sns.displot,\n",
    "    data=data,\n",
    "    x=\"count1\",\n",
    "    hue=\"mutation\",\n",
    "    col=\"trt_name\",\n",
    "    element=\"poly\",\n",
    "    # kind=\"kde\",\n",
    "    fill=True,\n",
    "    common_norm=False,\n",
    "    stat=\"density\",\n",
    "    alpha=0.2,\n",
    "    palette=[\"#FF0000\", \"#0000FF\"],\n",
    "    log_scale=True,\n",
    "    height=2.5,\n",
    "    ls=\":\",\n",
    "    facet_kws=dict(\n",
    "        sharex=False,\n",
    "        sharey=False,\n",
    "    ),\n",
    "    teeplot_subdir=teeplot_subdir,\n",
    ") as teed:\n",
    "    sns.move_legend(\n",
    "        teed,\n",
    "        \"lower center\",\n",
    "        bbox_to_anchor=(0.4, 1),\n",
    "        ncol=2,\n",
    "        title=None,\n",
    "        frameon=False,\n",
    "    )\n"
   ]
  },
  {
   "cell_type": "code",
   "execution_count": null,
   "metadata": {},
   "outputs": [],
   "source": [
    "for mut, grp in data.groupby(\"mutation\"):\n",
    "    res = scipy_stats.mannwhitneyu(\n",
    "        grp.loc[grp[\"trt_name\"] == \"Sben/Gneu\", \"count\"],\n",
    "        grp.loc[grp[\"trt_name\"] == \"Sben/Gdel\", \"count\"],\n",
    "    )\n",
    "    print(mut, res)\n"
   ]
  },
  {
   "cell_type": "code",
   "execution_count": null,
   "metadata": {},
   "outputs": [],
   "source": [
    "with tp.teed(\n",
    "    sns.displot,\n",
    "    data=data,\n",
    "    x=\"count1\",\n",
    "    col=\"mutation\",\n",
    "    hue=\"trt_name\",\n",
    "    kind=\"kde\",\n",
    "    fill=True,\n",
    "    common_norm=False,\n",
    "    alpha=0.2,\n",
    "    log_scale=True,\n",
    "    height=2.5,\n",
    "    ls=\":\",\n",
    "    facet_kws=dict(\n",
    "        sharex=False,\n",
    "        sharey=False,\n",
    "    ),\n",
    "    teeplot_subdir=teeplot_subdir,\n",
    ") as teed:\n",
    "    sns.move_legend(\n",
    "        teed,\n",
    "        \"lower center\",\n",
    "        bbox_to_anchor=(0.4, 1),\n",
    "        ncol=3,\n",
    "        title=None,\n",
    "        frameon=False,\n",
    "    )\n"
   ]
  },
  {
   "cell_type": "code",
   "execution_count": null,
   "metadata": {},
   "outputs": [],
   "source": [
    "with tp.teed(\n",
    "    sns.displot,\n",
    "    data=data[\n",
    "        (data[\"trt_name\"] != \"Sneu/Gneu\") & (data[\"mutation\"] == \"focal\")\n",
    "    ],\n",
    "    x=\"count1\",\n",
    "    col=\"mutation\",\n",
    "    hue=\"trt_name\",\n",
    "    kind=\"kde\",\n",
    "    fill=True,\n",
    "    common_norm=False,\n",
    "    alpha=0.2,\n",
    "    height=2.5,\n",
    "    aspect=1.5,\n",
    "    ls=\":\",\n",
    "    facet_kws=dict(\n",
    "        sharex=False,\n",
    "        sharey=False,\n",
    "    ),\n",
    "    teeplot_outattrs={\"excl\": \"Sneu-Gneu\"},\n",
    "    teeplot_subdir=teeplot_subdir,\n",
    ") as teed:\n",
    "    sns.move_legend(\n",
    "        teed,\n",
    "        \"lower center\",\n",
    "        bbox_to_anchor=(0.4, 1),\n",
    "        ncol=2,\n",
    "        title=None,\n",
    "        frameon=False,\n",
    "    )\n"
   ]
  }
 ],
 "metadata": {
  "kernelspec": {
   "display_name": "env",
   "language": "python",
   "name": "python3"
  },
  "language_info": {
   "codemirror_mode": {
    "name": "ipython",
    "version": 3
   },
   "file_extension": ".py",
   "mimetype": "text/x-python",
   "name": "python",
   "nbconvert_exporter": "python",
   "pygments_lexer": "ipython3"
  }
 },
 "nbformat": 4,
 "nbformat_minor": 2
}
