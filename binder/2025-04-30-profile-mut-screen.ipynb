{
 "cells": [
  {
   "cell_type": "code",
   "execution_count": null,
   "metadata": {},
   "outputs": [],
   "source": [
    "%load_ext watermark\n"
   ]
  },
  {
   "cell_type": "code",
   "execution_count": null,
   "metadata": {},
   "outputs": [],
   "source": [
    "import numpy as np\n",
    "import pandas as pd\n",
    "import seaborn as sns\n",
    "from teeplot import teeplot as tp\n",
    "\n",
    "from pylib._seed_global_rngs import seed_global_rngs\n"
   ]
  },
  {
   "cell_type": "code",
   "execution_count": null,
   "metadata": {},
   "outputs": [],
   "source": [
    "%watermark -diwmuv -iv\n"
   ]
  },
  {
   "cell_type": "code",
   "execution_count": null,
   "metadata": {},
   "outputs": [],
   "source": [
    "teeplot_subdir = \"2025-04-30-profile-mut-screen\"\n",
    "teeplot_subdir\n"
   ]
  },
  {
   "cell_type": "code",
   "execution_count": null,
   "metadata": {},
   "outputs": [],
   "source": [
    "seed_global_rngs(1)\n"
   ]
  },
  {
   "cell_type": "markdown",
   "metadata": {},
   "source": [
    "## Get Data\n"
   ]
  },
  {
   "cell_type": "code",
   "execution_count": null,
   "metadata": {},
   "outputs": [],
   "source": [
    "df = pd.read_parquet(\"https://osf.io/8pgy5/download\")\n"
   ]
  },
  {
   "cell_type": "code",
   "execution_count": null,
   "metadata": {},
   "outputs": [],
   "source": [
    "df[\"replicate_uuid\"].nunique()\n"
   ]
  },
  {
   "cell_type": "code",
   "execution_count": null,
   "metadata": {},
   "outputs": [],
   "source": [
    "df[\"is_focal_mutation\"] = df[\"mut_char_pos\"] == 0\n"
   ]
  },
  {
   "cell_type": "code",
   "execution_count": null,
   "metadata": {},
   "outputs": [],
   "source": [
    "records = []\n",
    "for (trt_name, replicate_uuid, screen_uuid, screen_name, tb_stat), grp in df[\n",
    "    (df[\"trt_hsurf_bits\"] == 0)\n",
    "    & (df[\"trt_n_downsample\"] == df[\"trt_n_downsample\"].max())\n",
    "    & (df[\"tb_stat\"].str.contains(\"ratio\"))\n",
    "].groupby(\n",
    "    [\"trt_name\", \"replicate_uuid\", \"screen_uuid\", \"screen_name\", \"tb_stat\"],\n",
    "    observed=True,\n",
    "):\n",
    "    grp_focal = grp[grp[\"is_focal_mutation\"]]\n",
    "    grp_nonfocal = grp[~grp[\"is_focal_mutation\"]]\n",
    "\n",
    "    record = {\n",
    "        \"trt_name\": trt_name,\n",
    "        \"replicate_uuid\": replicate_uuid,\n",
    "        \"screen_uuid\": screen_uuid,\n",
    "        \"screen_name\": screen_name,\n",
    "        \"tb_stat\": tb_stat,\n",
    "    }\n",
    "\n",
    "    records.append(\n",
    "        {\n",
    "            **record,\n",
    "            \"binom_p\": (\n",
    "                np.nan if len(grp_focal) == 0 else grp_focal[\"binom_p\"].item()\n",
    "            ),\n",
    "            \"mutation\": \"focal\",\n",
    "        },\n",
    "    )\n",
    "    records.append(\n",
    "        {\n",
    "            **record,\n",
    "            \"binom_p\": grp_nonfocal[\"binom_p\"].sample(1).item(),\n",
    "            \"mutation\": \"nonfocal\",\n",
    "        },\n",
    "    )\n"
   ]
  },
  {
   "cell_type": "code",
   "execution_count": null,
   "metadata": {},
   "outputs": [],
   "source": [
    "with tp.teed(\n",
    "    sns.catplot,\n",
    "    data=pd.DataFrame(records),\n",
    "    x=\"trt_name\",\n",
    "    y=\"binom_p\",\n",
    "    hue=\"mutation\",\n",
    "    row=\"screen_name\",\n",
    "    col=\"tb_stat\",\n",
    "    kind=\"box\",\n",
    "    height=2,\n",
    "    aspect=1.5,\n",
    "    margin_titles=True,\n",
    "):\n",
    "    pass\n"
   ]
  }
 ],
 "metadata": {
  "kernelspec": {
   "display_name": "env",
   "language": "python",
   "name": "python3"
  },
  "language_info": {
   "codemirror_mode": {
    "name": "ipython",
    "version": 3
   },
   "file_extension": ".py",
   "mimetype": "text/x-python",
   "name": "python",
   "nbconvert_exporter": "python",
   "pygments_lexer": "ipython3"
  }
 },
 "nbformat": 4,
 "nbformat_minor": 2
}
