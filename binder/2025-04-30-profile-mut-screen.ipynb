{
 "cells": [
  {
   "cell_type": "code",
   "execution_count": null,
   "metadata": {},
   "outputs": [],
   "source": [
    "%load_ext watermark\n"
   ]
  },
  {
   "cell_type": "code",
   "execution_count": null,
   "metadata": {},
   "outputs": [],
   "source": [
    "from IPython.display import display, HTML\n",
    "from matplotlib import pyplot as plt\n",
    "import numpy as np\n",
    "import pandas as pd\n",
    "import polars as pl\n",
    "import seaborn as sns\n",
    "from teeplot import teeplot as tp\n",
    "from tqdm import tqdm\n",
    "\n",
    "from pylib._seed_global_rngs import seed_global_rngs\n"
   ]
  },
  {
   "cell_type": "code",
   "execution_count": null,
   "metadata": {},
   "outputs": [],
   "source": [
    "%watermark -diwmuv -iv\n"
   ]
  },
  {
   "cell_type": "code",
   "execution_count": null,
   "metadata": {},
   "outputs": [],
   "source": [
    "teeplot_subdir = \"2025-04-30-profile-mut-screen\"\n",
    "teeplot_subdir\n"
   ]
  },
  {
   "cell_type": "code",
   "execution_count": null,
   "metadata": {},
   "outputs": [],
   "source": [
    "seed_global_rngs(1)\n"
   ]
  },
  {
   "cell_type": "markdown",
   "metadata": {},
   "source": [
    "## Get Data\n"
   ]
  },
  {
   "cell_type": "code",
   "execution_count": null,
   "metadata": {},
   "outputs": [],
   "source": [
    "df = pd.read_parquet(\"https://osf.io/9rck3/download\")\n"
   ]
  },
  {
   "cell_type": "code",
   "execution_count": null,
   "metadata": {},
   "outputs": [],
   "source": [
    "df[\"replicate_uuid\"].nunique()\n"
   ]
  },
  {
   "cell_type": "code",
   "execution_count": null,
   "metadata": {},
   "outputs": [],
   "source": [
    "df[\"is_focal_mutation\"] = df[\"mut_char_pos\"] == 0\n"
   ]
  },
  {
   "cell_type": "code",
   "execution_count": null,
   "metadata": {},
   "outputs": [],
   "source": [
    "stats = (\n",
    "    \"binom_p\",\n",
    "    \"binom_stat\",\n",
    "    \"trinom_p\",\n",
    "    \"trinom_stat\",\n",
    "    \"trinom_p_fill0\",\n",
    "    \"trinom_stat_fill0\",\n",
    "    \"mw_p\",\n",
    "    \"cliffs_delta\",\n",
    "    \"mw_p_dropna\",\n",
    "    \"cliffs_delta_dropna\",\n",
    ")\n"
   ]
  },
  {
   "cell_type": "code",
   "execution_count": null,
   "metadata": {},
   "outputs": [],
   "source": [
    "dfpl = pl.from_pandas(\n",
    "    df[\n",
    "        (df[\"trt_hsurf_bits\"] == 0)\n",
    "        & (df[\"trt_n_downsample\"] == df[\"trt_n_downsample\"].max())\n",
    "        & (df[\"tb_stat\"].str.contains(\"ratio\"))\n",
    "    ],\n",
    ")\n"
   ]
  },
  {
   "cell_type": "code",
   "execution_count": null,
   "metadata": {},
   "outputs": [],
   "source": [
    "records = []\n",
    "groups = dfpl.group_by(\n",
    "    [\n",
    "        \"trt_name\",\n",
    "        \"replicate_uuid\",\n",
    "        \"screen_uuid\",\n",
    "        \"screen_min_leaves\",\n",
    "        \"screen_name\",\n",
    "        \"tb_stat\",\n",
    "    ],\n",
    ")\n",
    "for (\n",
    "    trt_name,\n",
    "    replicate_uuid,\n",
    "    screen_uuid,\n",
    "    screen_min_leaves,\n",
    "    screen_name,\n",
    "    tb_stat,\n",
    "), grp in tqdm(\n",
    "    groups,\n",
    "):\n",
    "    grp_focal = grp.filter(pl.col(\"is_focal_mutation\"))\n",
    "    grp_nonfocal = grp.filter(~pl.col(\"is_focal_mutation\"))\n",
    "\n",
    "    record = {\n",
    "        \"trt_name\": trt_name,\n",
    "        \"replicate_uuid\": replicate_uuid,\n",
    "        \"screen_min_leaves\": screen_min_leaves,\n",
    "        \"screen_uuid\": screen_uuid,\n",
    "        \"screen_name\": screen_name,\n",
    "        \"tb_stat\": tb_stat,\n",
    "    }\n",
    "\n",
    "    records.append(\n",
    "        {\n",
    "            **record,\n",
    "            **{\n",
    "                stat: (\n",
    "                    np.nan if len(grp_focal) == 0 else grp_focal[stat].item()\n",
    "                )\n",
    "                for stat in stats\n",
    "            },\n",
    "            **{\"mutation\": \"focal\"},\n",
    "        },\n",
    "    )\n",
    "    for __ in range(2_000):\n",
    "        row = grp_nonfocal.sample(1)\n",
    "        records.append(\n",
    "            {\n",
    "                **record,\n",
    "                **{\n",
    "                    stat: row[stat].item() for stat in stats\n",
    "                },\n",
    "                **{\"mutation\": \"nonfocal\"},\n",
    "            },\n",
    "        )\n"
   ]
  },
  {
   "cell_type": "code",
   "execution_count": null,
   "metadata": {},
   "outputs": [],
   "source": [
    "data = pd.DataFrame(records)\n"
   ]
  },
  {
   "cell_type": "code",
   "execution_count": null,
   "metadata": {},
   "outputs": [],
   "source": [
    "for min_leaves, grp in data.groupby(\"screen_min_leaves\"):\n",
    "    for stat in stats:\n",
    "        display(HTML(f\"<h3>{stat} {min_leaves=}</h3>\"))\n",
    "        with tp.teed(\n",
    "            sns.catplot,\n",
    "            data=grp,\n",
    "            x=\"trt_name\",\n",
    "            y=stat,\n",
    "            hue=\"mutation\",\n",
    "            row=\"screen_name\",\n",
    "            col=\"tb_stat\",\n",
    "            kind=\"box\",\n",
    "            height=2,\n",
    "            aspect=1.5,\n",
    "            margin_titles=True,\n",
    "        ) as teed:\n",
    "            teed.set_titles(\n",
    "                row_template=\"{row_name}\",\n",
    "                col_template=\"{col_name}\",\n",
    "            )\n",
    "            teed.set(\n",
    "                ylim={\n",
    "                    \"binom_p\": (-1e-6, 1),\n",
    "                    \"binom_stat\": (-0.05, 1.05),\n",
    "                    \"trinom_p\": (-1e-6, 1),\n",
    "                    \"trinom_stat\": (-1.1, 1.1),\n",
    "                    \"trinom_p_fill0\": (-1e-6, 1),\n",
    "                    \"trinom_stat_fill0\": (-1, 1),\n",
    "                    \"mw_p\": (-1e-6, 1),\n",
    "                    \"cliffs_delta\": (-1.1, 1.1),\n",
    "                    \"mw_p_dropna\": (-1e-6, 1),\n",
    "                    \"cliffs_delta_dropna\": (-1.1, 1.1),\n",
    "                }[stat],\n",
    "            )\n",
    "            if \"_p\" not in stat:\n",
    "                teed.map(\n",
    "                    plt.axhline,\n",
    "                    y={\n",
    "                        \"binom_stat\": 0.5,\n",
    "                        \"trinom_stat\": 0,\n",
    "                        \"trinom_stat_fill0\": 0,\n",
    "                        \"cliffs_delta\": 0,\n",
    "                        \"cliffs_delta_dropna\": 0,\n",
    "                    }[stat],\n",
    "                    color=\"black\",\n",
    "                    linestyle=\"--\",\n",
    "                    linewidth=1,\n",
    "                )\n",
    "            else:\n",
    "                for ax in teed.axes.flatten():\n",
    "                    ax.set_yscale(\"symlog\", linthresh=1e-6)\n",
    "\n",
    "                teed.map(\n",
    "                    plt.axhline,\n",
    "                    y=0.05,\n",
    "                    color=\"black\",\n",
    "                    linestyle=\"--\",\n",
    "                    linewidth=1,\n",
    "                )\n"
   ]
  },
  {
   "cell_type": "code",
   "execution_count": null,
   "metadata": {},
   "outputs": [],
   "source": [
    "df.loc[\n",
    "    (df[\"trt_name\"] == \"Sben/Gneu\")\n",
    "    & (df[\"mut_char_pos\"] == 0)\n",
    "    & (df[\"tb_stat\"].str.endswith(\"ratio\")),\n",
    "    [\n",
    "        \"mut_nobs\",\n",
    "        \"mut_freq\",\n",
    "        \"binom_n\",\n",
    "        \"binom_k\",\n",
    "        \"binom_p\",\n",
    "        \"mw_p_dropna\",\n",
    "        \"tb_stat\",\n",
    "        \"screened_N\",\n",
    "        \"trt_name\",\n",
    "        \"mut_char_pos\",\n",
    "        \"screened_nanmean\",\n",
    "    ],\n",
    "].sample(25)\n"
   ]
  }
 ],
 "metadata": {
  "kernelspec": {
   "display_name": "env",
   "language": "python",
   "name": "python3"
  },
  "language_info": {
   "codemirror_mode": {
    "name": "ipython",
    "version": 3
   },
   "file_extension": ".py",
   "mimetype": "text/x-python",
   "name": "python",
   "nbconvert_exporter": "python",
   "pygments_lexer": "ipython3"
  }
 },
 "nbformat": 4,
 "nbformat_minor": 2
}
