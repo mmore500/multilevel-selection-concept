{
 "cells": [
  {
   "cell_type": "code",
   "execution_count": null,
   "metadata": {},
   "outputs": [],
   "source": [
    "%load_ext watermark\n"
   ]
  },
  {
   "cell_type": "code",
   "execution_count": null,
   "metadata": {},
   "outputs": [],
   "source": [
    "import sys\n",
    "\n",
    "from IPython.display import display, HTML\n",
    "import numpy as np\n",
    "import pandas as pd\n",
    "import seaborn as sns\n",
    "from teeplot import teeplot as tp\n",
    "from tqdm import tqdm\n",
    "\n",
    "from pylib.cli.run_covaphastsim import main as main_covaphastsim\n",
    "from pylib.cli.run_volzscreen import main as main_volzscreen\n",
    "from pylib._glimpse_df import glimpse_df\n"
   ]
  },
  {
   "cell_type": "code",
   "execution_count": null,
   "metadata": {},
   "outputs": [],
   "source": [
    "%watermark -diwmuv -iv\n"
   ]
  },
  {
   "cell_type": "code",
   "execution_count": null,
   "metadata": {},
   "outputs": [],
   "source": [
    "teeplot_subdir = \"2025-05-03-profile-e2e\"\n",
    "teeplot_subdir\n"
   ]
  },
  {
   "cell_type": "markdown",
   "metadata": {},
   "source": [
    "## Configs\n"
   ]
  },
  {
   "cell_type": "code",
   "execution_count": null,
   "metadata": {},
   "outputs": [],
   "source": [
    "covaphastsim_cfg = {\n",
    "    \"cfg_num_mut_sites\": 1,\n",
    "    # divide by 3 for possible alt nucleotides\n",
    "    \"cfg_p_wt_to_mut\": 100 * 2.74e-6 / 3,\n",
    "    \"cfg_pop_size\": 67_000_000 // 500,\n",
    "    \"cfg_maxseqlen\": 390,\n",
    "    \"cfg_refseqs\": \"https://osf.io/s9xhr/download\",\n",
    "    \"cfg_suffix_mut\": \"'\",\n",
    "    \"cfg_suffix_wt\": \"+\",\n",
    "    \"replicate_num\": 0,\n",
    "    \"trt_mutmx_active_strain_factor\": 1.0,\n",
    "    \"trt_mutmx_rel_beta\": 1.0,\n",
    "    \"trt_mutmx_withinhost_r\": 2.0,\n",
    "    \"trt_name\": \"Sben/Gneu\",\n",
    "    \"trt_seed\": 0,\n",
    "}\n"
   ]
  },
  {
   "cell_type": "code",
   "execution_count": null,
   "metadata": {},
   "outputs": [],
   "source": [
    "volzscreen_cfg = {\n",
    "    \"cfg_clade_size_thresh\": 8,\n",
    "    \"cfg_mut_count_thresh_lb\": 0,\n",
    "    \"cfg_mut_count_thresh_ub\": sys.maxsize,\n",
    "    \"cfg_mut_freq_thresh_lb\": 0.0,\n",
    "    \"cfg_mut_freq_thresh_ub\": 1.0,\n",
    "    \"cfg_mut_quant_thresh_lb\": 0.0,\n",
    "    \"cfg_mut_quant_thresh_ub\": 1.0,\n",
    "    \"screen_num\": 0,\n",
    "    \"trt_hsurf_bits\": 0,\n",
    "    \"trt_n_downsample\": 1_000_000,\n",
    "    \"trt_seed\": 0,\n",
    "}\n"
   ]
  },
  {
   "cell_type": "markdown",
   "metadata": {},
   "source": [
    "## Run\n"
   ]
  },
  {
   "cell_type": "code",
   "execution_count": null,
   "metadata": {},
   "outputs": [],
   "source": [
    "phylo_df = main_covaphastsim(covaphastsim_cfg)\n"
   ]
  },
  {
   "cell_type": "code",
   "execution_count": null,
   "metadata": {},
   "outputs": [],
   "source": [
    "glimpse_df(phylo_df, logger=print)\n"
   ]
  },
  {
   "cell_type": "code",
   "execution_count": null,
   "metadata": {},
   "outputs": [],
   "source": [
    "phylo_df[\"replicate_uuid\"] = 0\n",
    "assert phylo_df[\"ancestral_sequence\"].nunique() == 1\n"
   ]
  },
  {
   "cell_type": "code",
   "execution_count": null,
   "metadata": {},
   "outputs": [],
   "source": [
    "screen_df = main_volzscreen(phylo_df, volzscreen_cfg)\n"
   ]
  },
  {
   "cell_type": "code",
   "execution_count": null,
   "metadata": {},
   "outputs": [],
   "source": [
    "glimpse_df(screen_df, logger=print)\n"
   ]
  },
  {
   "cell_type": "markdown",
   "metadata": {},
   "source": [
    "## Analyze\n"
   ]
  },
  {
   "cell_type": "code",
   "execution_count": null,
   "metadata": {},
   "outputs": [],
   "source": [
    "with tp.teed(\n",
    "    sns.catplot,\n",
    "    data=screen_df.astype({\"mut_char_pos\": bool}),\n",
    "    y=\"trinom_stat\",\n",
    "    hue=\"mut_char_pos\",\n",
    "    col=\"tb_stat\",\n",
    "    row=\"screen_name\",\n",
    "    kind=\"box\",\n",
    "    height=2,\n",
    "    aspect=1.5,\n",
    "    palette=\"Set2\",\n",
    "    legend_out=True,\n",
    "    margin_titles=True,\n",
    "    teeplot_subdir=teeplot_subdir,\n",
    ") as teed:\n",
    "    teed.set_titles(\n",
    "        row_template=\"{row_name}\",\n",
    "        col_template=\"{col_name}\",\n",
    "    )\n",
    "    teed.set(ylim=(-1, 1))\n"
   ]
  },
  {
   "cell_type": "code",
   "execution_count": null,
   "metadata": {},
   "outputs": [],
   "source": [
    "with tp.teed(\n",
    "    sns.catplot,\n",
    "    data=screen_df.astype({\"mut_char_pos\": bool}),\n",
    "    y=\"binom_stat\",\n",
    "    hue=\"mut_char_pos\",\n",
    "    col=\"tb_stat\",\n",
    "    row=\"screen_name\",\n",
    "    kind=\"box\",\n",
    "    height=2,\n",
    "    aspect=1.5,\n",
    "    palette=\"Set2\",\n",
    "    legend_out=True,\n",
    "    margin_titles=True,\n",
    "    teeplot_subdir=teeplot_subdir,\n",
    ") as teed:\n",
    "    teed.set_titles(\n",
    "        row_template=\"{row_name}\",\n",
    "        col_template=\"{col_name}\",\n",
    "    )\n",
    "    teed.set(ylim=(0, 1))\n"
   ]
  },
  {
   "cell_type": "code",
   "execution_count": null,
   "metadata": {},
   "outputs": [],
   "source": [
    "with tp.teed(\n",
    "    sns.catplot,\n",
    "    data=screen_df.astype({\"mut_char_pos\": bool}),\n",
    "    y=\"screened_nanmedian\",\n",
    "    hue=\"mut_char_pos\",\n",
    "    col=\"tb_stat\",\n",
    "    row=\"screen_name\",\n",
    "    kind=\"box\",\n",
    "    height=2,\n",
    "    aspect=1.5,\n",
    "    sharey=False,\n",
    "    palette=\"Set2\",\n",
    "    legend_out=True,\n",
    "    margin_titles=True,\n",
    "    teeplot_subdir=teeplot_subdir,\n",
    ") as teed:\n",
    "    teed.set_titles(\n",
    "        row_template=\"{row_name}\",\n",
    "        col_template=\"{col_name}\",\n",
    "    )\n"
   ]
  },
  {
   "cell_type": "code",
   "execution_count": null,
   "metadata": {},
   "outputs": [],
   "source": [
    "with tp.teed(\n",
    "    sns.catplot,\n",
    "    data=screen_df.astype({\"mut_char_pos\": bool}),\n",
    "    x=\"screen_name\",\n",
    "    y=\"background_nanmedian\",\n",
    "    hue=\"mut_char_pos\",\n",
    "    col=\"tb_stat\",\n",
    "    row=\"screen_name\",\n",
    "    kind=\"box\",\n",
    "    height=2,\n",
    "    aspect=1.5,\n",
    "    sharey=False,\n",
    "    palette=\"Set2\",\n",
    "    legend_out=True,\n",
    "    teeplot_subdir=teeplot_subdir,\n",
    ") as teed:\n",
    "    teed.set_titles(\n",
    "        row_template=\"{row_name}\",\n",
    "        col_template=\"{col_name}\",\n",
    "    )\n"
   ]
  }
 ],
 "metadata": {
  "kernelspec": {
   "display_name": "env",
   "language": "python",
   "name": "python3"
  },
  "language_info": {
   "codemirror_mode": {
    "name": "ipython",
    "version": 3
   },
   "file_extension": ".py",
   "mimetype": "text/x-python",
   "name": "python",
   "nbconvert_exporter": "python",
   "pygments_lexer": "ipython3"
  }
 },
 "nbformat": 4,
 "nbformat_minor": 5
}
